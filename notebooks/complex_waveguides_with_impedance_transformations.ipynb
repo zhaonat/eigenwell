{
 "cells": [
  {
   "cell_type": "markdown",
   "metadata": {},
   "source": [
    "## slot waveguides, MIMIM waveguides etc.\n",
    "We want to analyze leakage for more complex geometries, so we use something from Prof. Fan's EE236 class\n",
    "\n",
    "\n",
    "### Slot Waveguide\n",
    "We analyze the TM mode (Hy, Ex, Ez). The Ez field is discontinuous\n",
    "We also need the Hy field.\n",
    "\n",
    "The transcendental dispersion being solved is:\n",
    "\\begin{equation}\n",
    "    \\epsilon_r \\bigg(\\frac{\\alpha}{k_x}\\bigg)\\tanh(\\alpha a) = \\tan(k_x(b-a)-\\phi)\n",
    "\\end{equation}\n",
    "\n",
    "where:\n",
    "\\begin{equation}\n",
    "    \\phi = \\tan^{-1}\\bigg(\\epsilon_r\\frac{\\alpha}{k_x}\\bigg)\n",
    "\\end{equation}\n",
    "\n",
    "In this particular situation, we are assuming solutions of the form:\n",
    "\\begin{equation}\n",
    "    H_y = \\begin{cases}\n",
    "        Ce^{-\\alpha(x-b)} & x>b\\\\\n",
    "        A\\cosh(\\alpha x)  & 0 < x< a \\\\\n",
    "        B_1 \\cos(k_x(x-a)) + B_2\\sin(k_x(x-a)) & a<x<b\n",
    "    \\end{cases}\n",
    "\\end{equation}\n",
    "\n",
    "where 0 to a is the slot region, a to b is the waveguide region and beyond b is the infinite half space.\n"
   ]
  },
  {
   "cell_type": "code",
   "execution_count": 2,
   "metadata": {},
   "outputs": [],
   "source": [
    "import numpy as np\n",
    "import matplotlib.pyplot as plt"
   ]
  },
  {
   "cell_type": "code",
   "execution_count": 3,
   "metadata": {},
   "outputs": [
    {
     "name": "stderr",
     "output_type": "stream",
     "text": [
      "D:\\Anaconda3\\lib\\site-packages\\ipykernel_launcher.py:20: DeprecationWarning: object of type <class 'float'> cannot be safely interpreted as an integer.\n"
     ]
    },
    {
     "name": "stdout",
     "output_type": "stream",
     "text": [
      "5e-08 3e-07\n"
     ]
    }
   ],
   "source": [
    "\n",
    "L0 = 1e-6;\n",
    "wavelength = 1.55*L0;\n",
    "eps0 = 8.854e-12;\n",
    "mu0 = 4*np.pi*10e-7;\n",
    "c0 = 1/np.sqrt(mu0*eps0);\n",
    "\n",
    "omega = 2*np.pi*c0/wavelength; \n",
    "\n",
    "# waveguide parameters\n",
    "a = 0.05*L0;##0.025*L0; #a gap size\n",
    "b = a+0.25*L0; #waveguide size\n",
    "delta = b-a;\n",
    "\n",
    "n_c = 1; n_s = 1; #cover and substrate\n",
    "n_film = 3.48;\n",
    "eps_film = n_film**2;\n",
    "kx_max = np.sqrt(omega**2/c0**2*(eps_film-1)); # = kx^2+alpha^2;\n",
    "\n",
    "beta = np.linspace(1.4*omega/c0, 1.65*omega/c0, 1e7); \n",
    "\n",
    "## dispersion relations\n",
    "kx = np.sqrt(eps_film*omega**2/c0**2 - beta**2);\n",
    "#as we have -alpha^2, we must have beta larger than omega/c0\n",
    "alpha = np.sqrt(beta**2 - omega**2/c0**2);\n",
    "\n",
    "# %what we have now are circles, but we need to know what alphas\n",
    "# % and what kx's are actually allowed\n",
    "# % part c) in the homework gives us relationship between kx and alpha\n",
    "\n",
    "a_kx_ratio = alpha/kx;\n",
    "RHS = eps_film*(a_kx_ratio)*np.tanh(alpha*a);\n",
    "# figure()\n",
    "# plot(kx, RHS, 'linewidth', 2)\n",
    "# hold on;\n",
    "phi = np.arctan(eps_film*(a_kx_ratio)); #phase shift\n",
    "LHS = np.tan(kx*delta - phi) ;\n",
    "# plot(kx, LHS, 'linewidth', 2)\n",
    "# xlabel('kx (1/m)')\n",
    "# legend('RHS of dispersion', 'LHS of dispersion')\n",
    "# title('Graphical Solution to Dispersion Relation')\n",
    "\n",
    "# %get the allowed kx and alpha (this is where RHS = LHS\n",
    "match = 0;\n",
    "for i in range(len(LHS)):\n",
    "    if(abs(LHS[i] - RHS[i])/abs(LHS[i])<1e-7):\n",
    "        match = i;\n",
    "    \n",
    "## plot the Ex field given kx and alpha information and beta\n",
    "kx = kx[i];\n",
    "alpha = alpha[i];\n",
    "beta = (eps_film*omega**2/c0**2 - kx**2)**.5; \n",
    "\n",
    "# test the dispersion relations at this point\n",
    "x1 = np.linspace(0, a, 1000);\n",
    "x2 = np.linspace(a, b, 1000);\n",
    "x3 = np.linspace(b, 500e-9, 1000);\n",
    "\n",
    "A = 1; #free parameter A\n",
    "coef= A; #we don't even need beta/omega\n",
    "\n",
    "a_kx = alpha/kx;\n",
    "\n",
    "B1 = np.cosh(alpha*a);\n",
    "B2 = (alpha*eps_film/kx)*np.sinh(alpha*a);\n",
    "C =  (np.cosh(alpha*a)*np.cos(kx*delta) +(eps_film*alpha/kx)*np.sinh(alpha*a)*np.sin(kx*delta));\n",
    "\n",
    "## Hy field\n",
    "Hz1 = np.cosh(alpha*x1);\n",
    "Hz2= B1*np.cos(kx*(x2-a))+B2*np.sin(kx*(x2-a));\n",
    "Hz3 = C*np.exp(-alpha*(x3-b));\n",
    "\n",
    "\n",
    "## directly model the electric field in half of the structure (structure is symmetric about x =0)\n",
    "E1 = np.cosh(alpha*x1);\n",
    "E2 = ((np.cosh(alpha*a)/eps_film)*np.cos(kx*(x2-a)) + \\\n",
    "    (alpha/kx)*np.sinh(alpha*a)*np.sin(kx*(x2-a)));\n",
    "E3 = (np.cosh(alpha*a)*np.cos(kx*delta) + \\\n",
    "    (eps_film*alpha/kx)*np.sinh(alpha*a)*np.sin(kx*delta))*np.exp(-alpha*(x3-b));\n",
    "   \n",
    "E1_max = max(abs(E1));E2_max = max(abs(E2));\n",
    "E3_max = max(abs(E3));\n",
    "\n",
    "E_max = max([E1_max, E2_max, E3_max]);\n",
    "E1 = E1/E_max; E2 = E2/E_max; E3 = E3/E_max;\n",
    "#normalize by max field intensity\n",
    "\n",
    "print(a,b)"
   ]
  },
  {
   "cell_type": "code",
   "execution_count": 4,
   "metadata": {},
   "outputs": [
    {
     "name": "stdout",
     "output_type": "stream",
     "text": [
      "5.320197876172056\n"
     ]
    },
    {
     "data": {
      "text/plain": [
       "[<matplotlib.lines.Line2D at 0x1a300077a90>]"
      ]
     },
     "execution_count": 4,
     "metadata": {},
     "output_type": "execute_result"
    },
    {
     "data": {
      "image/png": "[encoded data removed]",
      "text/plain": [
       "<Figure size 432x288 with 1 Axes>"
      ]
     },
     "metadata": {
      "needs_background": "light"
     },
     "output_type": "display_data"
    },
    {
     "data": {
      "image/png": "[encoded data removed]",
      "text/plain": [
       "<Figure size 432x288 with 1 Axes>"
      ]
     },
     "metadata": {
      "needs_background": "light"
     },
     "output_type": "display_data"
    }
   ],
   "source": [
    "plt.plot(x1/L0, E1, '.b')\n",
    "plt.plot(x2/L0, E2, '.r')\n",
    "plt.plot(x3/L0, E3, '.c')\n",
    "plt.axvline(a/L0, linestyle = '--');\n",
    "plt.axvline(b/L0, linestyle = '--')\n",
    "plt.axvline(-a/L0, linestyle = '--');\n",
    "plt.axvline(-b/L0, linestyle = '--')\n",
    "\n",
    "plt.plot(-x1/L0, E1, '.b')\n",
    "plt.plot(-x2/L0, E2, '.r')\n",
    "plt.plot(-x3/L0, E3, '.c')\n",
    "plt.ylabel('Ex-field (normalized)')\n",
    "plt.xlabel('x-direction (microns)')\n",
    "plt.title('Ex field of fundamental TM mode')\n",
    "plt.text(0.2,0.6,'$\\lambda_0$=1.55 microns')\n",
    "print(alpha*L0)\n",
    "\n",
    "plt.figure();\n",
    "plt.plot(x1/L0, Hz1, '.b')\n",
    "plt.plot(x2/L0, Hz2, '.r')\n",
    "plt.plot(x3/L0, Hz3, '.c')\n",
    "plt.axvline(a/L0, linestyle = '--');\n",
    "plt.axvline(b/L0, linestyle = '--')\n",
    "plt.axvline(-a/L0, linestyle = '--');\n",
    "plt.axvline(-b/L0, linestyle = '--')\n",
    "plt.plot(-x1/L0, Hz1, '.b')\n",
    "plt.plot(-x2/L0, Hz2, '.r')\n",
    "plt.plot(-x3/L0, Hz3, '.c')"
   ]
  },
  {
   "cell_type": "markdown",
   "metadata": {},
   "source": [
    "## Application to Adjacent air core (MIMIM) waveguides\n",
    "In this situation, we should be able to modify the existing solution for the dielectric slot waveguide. Let's start with the out of plane H field in the TM polarization:\n",
    "In this particular situation, we are assuming solutions of the form:\n",
    "\\begin{equation}\n",
    "    H_y = \\begin{cases}\n",
    "        Ce^{-\\alpha(x-b)} & x>b\\\\\n",
    "        A\\cosh(\\alpha x)  & 0 < x< a \\\\\n",
    "        B_1 \\cos(k_x(x-a)) + B_2\\sin(k_x(x-a)) & a<x<b\n",
    "    \\end{cases}\n",
    "\\end{equation}\n",
    "In fact, it is not even clear to me that it is necessary to change the form of this solution. AS it stands, in a metal, we have a decaying field and in the separator wall, we also have a decaying field, which must be even.\n",
    "\n",
    "In order to evaluate the correct solutions using Newton's algorith, we will also need to give the analytic first derivative of the dispersion, as such:\n",
    "\\begin{equation}\n",
    "    \\epsilon_r \\bigg(\\frac{\\alpha}{k_x}\\bigg)\\tanh(\\alpha a) = \\tan(k_x(b-a)-\\phi)\n",
    "\\end{equation}\n",
    "\n",
    "where:\n",
    "\\begin{equation}\n",
    "    \\phi = \\tan^{-1}\\bigg(\\epsilon_r\\frac{\\alpha}{k_x}\\bigg)\n",
    "\\end{equation}\n",
    "\n",
    "We are solving for $k_x$ in this equation, so the derivative looks like it will be quite complicated."
   ]
  },
  {
   "cell_type": "code",
   "execution_count": 6,
   "metadata": {},
   "outputs": [
    {
     "name": "stderr",
     "output_type": "stream",
     "text": [
      "D:\\Anaconda3\\lib\\site-packages\\ipykernel_launcher.py:24: DeprecationWarning: object of type <class 'float'> cannot be safely interpreted as an integer.\n"
     ]
    },
    {
     "ename": "TypeError",
     "evalue": "'>=' not supported between instances of 'complex' and 'int'",
     "output_type": "error",
     "traceback": [
      "\u001b[1;31m---------------------------------------------------------------------------\u001b[0m",
      "\u001b[1;31mTypeError\u001b[0m                                 Traceback (most recent call last)",
      "\u001b[1;32m<ipython-input-6-2a2795e63fbf>\u001b[0m in \u001b[0;36m<module>\u001b[1;34m\u001b[0m\n\u001b[0;32m     38\u001b[0m \u001b[1;33m\u001b[0m\u001b[0m\n\u001b[0;32m     39\u001b[0m \u001b[0minitial_guess\u001b[0m \u001b[1;33m=\u001b[0m \u001b[1;36m20\u001b[0m\u001b[1;33m*\u001b[0m\u001b[1;36m1j\u001b[0m\u001b[1;33m;\u001b[0m \u001b[1;31m#does initial have to be real?\u001b[0m\u001b[1;33m\u001b[0m\u001b[1;33m\u001b[0m\u001b[0m\n\u001b[1;32m---> 40\u001b[1;33m \u001b[0mkans\u001b[0m \u001b[1;33m=\u001b[0m \u001b[0mnewton\u001b[0m\u001b[1;33m(\u001b[0m\u001b[0mmimim_even\u001b[0m\u001b[1;33m,\u001b[0m  \u001b[0mx0\u001b[0m \u001b[1;33m=\u001b[0m \u001b[0minitial_guess\u001b[0m\u001b[1;33m,\u001b[0m \u001b[0mmaxiter\u001b[0m \u001b[1;33m=\u001b[0m \u001b[1;36m1000\u001b[0m\u001b[1;33m)\u001b[0m\u001b[1;33m\u001b[0m\u001b[1;33m\u001b[0m\u001b[0m\n\u001b[0m\u001b[0;32m     41\u001b[0m \u001b[0mprint\u001b[0m\u001b[1;33m(\u001b[0m\u001b[1;34m'kappa_i: '\u001b[0m\u001b[1;33m+\u001b[0m\u001b[0mstr\u001b[0m\u001b[1;33m(\u001b[0m\u001b[0mkans\u001b[0m\u001b[1;33m)\u001b[0m\u001b[1;33m)\u001b[0m\u001b[1;33m;\u001b[0m \u001b[1;31m#want it to be imaginary for large core sizes\u001b[0m\u001b[1;33m\u001b[0m\u001b[1;33m\u001b[0m\u001b[0m\n\u001b[0;32m     42\u001b[0m \u001b[1;33m\u001b[0m\u001b[0m\n",
      "\u001b[1;32mD:\\Anaconda3\\lib\\site-packages\\scipy\\optimize\\zeros.py\u001b[0m in \u001b[0;36mnewton\u001b[1;34m(func, x0, fprime, args, tol, maxiter, fprime2, x1, rtol, full_output, disp)\u001b[0m\n\u001b[0;32m    311\u001b[0m             \u001b[0meps\u001b[0m \u001b[1;33m=\u001b[0m \u001b[1;36m1e-4\u001b[0m\u001b[1;33m\u001b[0m\u001b[1;33m\u001b[0m\u001b[0m\n\u001b[0;32m    312\u001b[0m             \u001b[0mp1\u001b[0m \u001b[1;33m=\u001b[0m \u001b[0mx0\u001b[0m \u001b[1;33m*\u001b[0m \u001b[1;33m(\u001b[0m\u001b[1;36m1\u001b[0m \u001b[1;33m+\u001b[0m \u001b[0meps\u001b[0m\u001b[1;33m)\u001b[0m\u001b[1;33m\u001b[0m\u001b[1;33m\u001b[0m\u001b[0m\n\u001b[1;32m--> 313\u001b[1;33m             \u001b[0mp1\u001b[0m \u001b[1;33m+=\u001b[0m \u001b[1;33m(\u001b[0m\u001b[0meps\u001b[0m \u001b[1;32mif\u001b[0m \u001b[0mp1\u001b[0m \u001b[1;33m>=\u001b[0m \u001b[1;36m0\u001b[0m \u001b[1;32melse\u001b[0m \u001b[1;33m-\u001b[0m\u001b[0meps\u001b[0m\u001b[1;33m)\u001b[0m\u001b[1;33m\u001b[0m\u001b[1;33m\u001b[0m\u001b[0m\n\u001b[0m\u001b[0;32m    314\u001b[0m         \u001b[0mq0\u001b[0m \u001b[1;33m=\u001b[0m \u001b[0mfunc\u001b[0m\u001b[1;33m(\u001b[0m\u001b[0mp0\u001b[0m\u001b[1;33m,\u001b[0m \u001b[1;33m*\u001b[0m\u001b[0margs\u001b[0m\u001b[1;33m)\u001b[0m\u001b[1;33m\u001b[0m\u001b[1;33m\u001b[0m\u001b[0m\n\u001b[0;32m    315\u001b[0m         \u001b[0mfuncalls\u001b[0m \u001b[1;33m+=\u001b[0m \u001b[1;36m1\u001b[0m\u001b[1;33m\u001b[0m\u001b[1;33m\u001b[0m\u001b[0m\n",
      "\u001b[1;31mTypeError\u001b[0m: '>=' not supported between instances of 'complex' and 'int'"
     ]
    }
   ],
   "source": [
    "from scipy.optimize import newton\n",
    "## need newton for this...since we have to probe complex space\n",
    "\n",
    "L0 = 1e-6;\n",
    "wavelength = 1.55*L0;\n",
    "eps0 = 8.854e-12;\n",
    "mu0 = 4*np.pi*10e-7;\n",
    "c0 = 1/np.sqrt(mu0*eps0);\n",
    "\n",
    "omega = 2*np.pi*c0/wavelength; \n",
    "\n",
    "# waveguide parameters\n",
    "a = 0.05*L0;##0.025*L0; #a gap size\n",
    "b = a+0.1*L0; #waveguide size\n",
    "delta = b-a;\n",
    "\n",
    "n_c = 1; n_s = 1; #cover and substrate\n",
    "n_film = 1;\n",
    "eps_film = n_film**2;\n",
    "n_c = -1;\n",
    "n_s = -1;\n",
    "kx_max = np.sqrt(omega**2/c0**2*(eps_film-1)); # = kx^2+alpha^2;\n",
    "\n",
    "beta = np.linspace(1.4*omega/c0, 1.65*omega/c0, 1e7); \n",
    "\n",
    "def mimim_even(beta, a= a, n_c = n_c, n_s = n_s, eps_film = eps_film):\n",
    "    '''\n",
    "    uses same transcendental dispersion used for dielectric slot waveguides\n",
    "    '''\n",
    "    alpha = np.sqrt(beta**2 - omega**2/c0**2);\n",
    "    kx = np.sqrt(eps_film*omega**2/c0**2 - beta**2);\n",
    "    a_kx_ratio = alpha/kx;\n",
    "    RHS = eps_film*(a_kx_ratio)*np.tanh(alpha*a);\n",
    "    phi = np.arctan(eps_film*(a_kx_ratio)); #phase shift\n",
    "    LHS = np.tan(kx*delta - phi) ;\n",
    "    return RHS-LHS;\n",
    "\n",
    "def mimim_even_derivative():\n",
    "    return;\n",
    "\n",
    "\n",
    "initial_guess = 20*1j; #does initial have to be real?\n",
    "kans = newton(mimim_even,  x0 = initial_guess, maxiter = 1000)\n",
    "print('kappa_i: '+str(kans)); #want it to be imaginary for large core sizes\n",
    "\n",
    "\n",
    "beta = (eps_film*omega**2/c0**2 - kx**2)**.5; \n",
    "\n",
    "# test the dispersion relations at this point\n",
    "x1 = np.linspace(0, a, 1000);\n",
    "x2 = np.linspace(a, b, 1000);\n",
    "x3 = np.linspace(b, 500e-9, 1000);\n",
    "\n",
    "A = 1; #free parameter A\n",
    "coef= A; #we don't even need beta/omega\n",
    "\n",
    "a_kx = alpha/kx;\n",
    "\n",
    "B1 = np.cosh(alpha*a);\n",
    "B2 = (alpha*eps_film/kx)*np.sinh(alpha*a);\n",
    "C =  (np.cosh(alpha*a)*np.cos(kx*delta) +(eps_film*alpha/kx)*np.sinh(alpha*a)*np.sin(kx*delta));\n",
    "\n",
    "## Hy field\n",
    "Hz1 = np.cosh(alpha*x1);\n",
    "Hz2= B1*np.cos(kx*(x2-a))+B2*np.sin(kx*(x2-a));\n",
    "Hz3 = C*np.exp(-alpha*(x3-b));\n",
    "\n",
    "\n",
    "## directly model the electric field in half of the structure (structure is symmetric about x =0)\n",
    "E1 = np.cosh(alpha*x1);\n",
    "E2 = ((np.cosh(alpha*a)/eps_film)*np.cos(kx*(x2-a)) + \\\n",
    "    (alpha/kx)*np.sinh(alpha*a)*np.sin(kx*(x2-a)));\n",
    "E3 = (np.cosh(alpha*a)*np.cos(kx*delta) + \\\n",
    "    (eps_film*alpha/kx)*np.sinh(alpha*a)*np.sin(kx*delta))*np.exp(-alpha*(x3-b));\n",
    "   \n",
    "E1_max = max(abs(E1));E2_max = max(abs(E2));\n",
    "E3_max = max(abs(E3));\n",
    "\n",
    "E_max = max([E1_max, E2_max, E3_max]);\n",
    "E1 = E1/E_max; E2 = E2/E_max; E3 = E3/E_max;\n",
    "#normalize by max field intensity\n",
    "\n",
    "print(a,b)\n",
    "print(E2, E3)"
   ]
  },
  {
   "cell_type": "code",
   "execution_count": null,
   "metadata": {},
   "outputs": [],
   "source": [
    "plt.plot(x1/L0, E1, '.b')\n",
    "plt.plot(x2/L0, E2, '.r')\n",
    "plt.plot(x3/L0, E3, '.c')\n",
    "plt.axvline(a/L0, linestyle = '--');\n",
    "plt.axvline(b/L0, linestyle = '--')\n",
    "plt.axvline(-a/L0, linestyle = '--');\n",
    "plt.axvline(-b/L0, linestyle = '--')\n",
    "\n",
    "\n",
    "plt.figure();\n",
    "plt.plot(x1/L0, Hz1, '.b')\n",
    "plt.plot(x2/L0, Hz2, '.r')\n",
    "plt.plot(x3/L0, Hz3, '.c')\n",
    "plt.axvline(a/L0, linestyle = '--');\n",
    "plt.axvline(b/L0, linestyle = '--')\n",
    "plt.axvline(-a/L0, linestyle = '--');\n",
    "plt.axvline(-b/L0, linestyle = '--')\n",
    "plt.plot(-x1/L0, Hz1, '.b')\n",
    "plt.plot(-x2/L0, Hz2, '.r')\n",
    "plt.plot(-x3/L0, Hz3, '.c')\n"
   ]
  },
  {
   "cell_type": "markdown",
   "metadata": {},
   "source": [
    "## Impedance Transformation Method, finite thickness metal slab\n",
    "Does this method provide a way to study an MIM waveguide? It should as the finite thickness metal slab is just an IMI waveguide. \n",
    "\n",
    "It should also be able to provide a way to study arbitrary numbers of layers AS A WAVEGUIDE type system"
   ]
  },
  {
   "cell_type": "code",
   "execution_count": 20,
   "metadata": {},
   "outputs": [
    {
     "name": "stderr",
     "output_type": "stream",
     "text": [
      "D:\\Anaconda3\\lib\\site-packages\\ipykernel_launcher.py:12: RuntimeWarning: divide by zero encountered in true_divide\n",
      "  if sys.path[0] == '':\n",
      "D:\\Anaconda3\\lib\\site-packages\\ipykernel_launcher.py:15: RuntimeWarning: divide by zero encountered in true_divide\n",
      "  from ipykernel import kernelapp as app\n",
      "D:\\Anaconda3\\lib\\site-packages\\ipykernel_launcher.py:15: RuntimeWarning: invalid value encountered in multiply\n",
      "  from ipykernel import kernelapp as app\n",
      "D:\\Anaconda3\\lib\\site-packages\\ipykernel_launcher.py:26: RuntimeWarning: invalid value encountered in true_divide\n",
      "D:\\Anaconda3\\lib\\site-packages\\ipykernel_launcher.py:31: RuntimeWarning: invalid value encountered in true_divide\n"
     ]
    },
    {
     "data": {
      "image/png": "[encoded data removed]",
      "text/plain": [
       "<Figure size 432x288 with 1 Axes>"
      ]
     },
     "metadata": {
      "needs_background": "light"
     },
     "output_type": "display_data"
    }
   ],
   "source": [
    "c0 = 3e8; #m/s\n",
    "mu0 = 4*np.pi*10e-7;\n",
    "e0 = 8.854e-12;\n",
    "\n",
    "## we'll define our own plasma frequency\n",
    "omega_plasma = 2.7e15; #Hz;\n",
    "\n",
    "omega1 = np.linspace(0, omega_plasma-1, 1000);\n",
    "omega2 = np.linspace(omega_plasma+1, 2*omega_plasma, 1000);\n",
    "\n",
    "#convert omegas into lambdas\n",
    "lambda1 = 2*np.pi*c0/omega1;\n",
    "lambda2 = 2*np.pi*c0/omega2;\n",
    "\n",
    "kappa = (omega1/c0)*(omega_plasma**2/omega1**2-1)**.5;\n",
    "kz = (omega2/c0)*(1 - omega_plasma**2/omega2**2)**.5;\n",
    "\n",
    "d = 3*2*np.pi*c0/omega_plasma; # scale of microns\n",
    "\n",
    "#onset of plasmons occurs at omega_p/sqrt(2);\n",
    "\n",
    "#calculate alpha in the slab\n",
    "alpha = kappa;\n",
    "\n",
    "#k is the wavevector pointing down\n",
    "Z02 = 1j*omega1*mu0/alpha; #inside the slab has a special form\n",
    "Z01 = np.sqrt(mu0/e0)*1;      #normal incidence;\n",
    "Z03 = Z01;\n",
    "\n",
    "## construct the reflection coefficient when omega < omega_p (negative situation)\n",
    "r_coef = np.tanh(alpha*d)*(Z02**2 - Z01**2)/(2*Z02*Z01 + np.tanh(alpha*d)*(Z01**2 + Z02**2));\n",
    "R = abs(r_coef)**2;\n",
    "\n",
    "\n",
    "## ow construct the reflection coefficient when omega > omega_p real situation\n",
    "#in this case Z02 has a new form \n",
    "Z02 = np.sqrt(mu0/e0*(1-omega_plasma**2/omega2**2) +0*1j);\n",
    "Z = Z02*(Z01 - 1j*Z02*np.tan(-kz*d))/(Z02 - 1j*Z01*np.tan(-kz*d));\n",
    "r_coef_2 = (Z - Z01)/(Z + Z01);\n",
    "\n",
    "R2 = abs(r_coef_2)**2;\n",
    "plt.figure();\n",
    "plt.plot(omega1/omega_plasma,R)\n",
    "#hold on;\n",
    "#line([1,1], [0,1]);\n",
    "plt.plot(omega2/omega_plasma, R2);\n",
    "plt.title('Reflection Spectrum of a Drude Metal')\n",
    "plt.xlabel('\\omega/\\omega_p (1/s)')\n",
    "plt.ylabel('emittance')\n",
    "plt.show();"
   ]
  },
  {
   "cell_type": "code",
   "execution_count": null,
   "metadata": {},
   "outputs": [],
   "source": []
  }
 ],
 "metadata": {
  "kernelspec": {
   "display_name": "Python 3",
   "language": "python",
   "name": "python3"
  },
  "language_info": {
   "codemirror_mode": {
    "name": "ipython",
    "version": 3
   },
   "file_extension": ".py",
   "mimetype": "text/x-python",
   "name": "python",
   "nbconvert_exporter": "python",
   "pygments_lexer": "ipython3",
   "version": "3.7.3"
  }
 },
 "nbformat": 4,
 "nbformat_minor": 2
}
