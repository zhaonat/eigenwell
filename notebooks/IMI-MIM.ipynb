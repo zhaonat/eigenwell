{
 "cells": [
  {
   "cell_type": "code",
   "execution_count": 44,
   "metadata": {},
   "outputs": [],
   "source": [
    "import numpy as np\n",
    "import matplotlib.pyplot as plt\n",
    "from eigenwell.src.eigen_guide import *\n",
    "from eigenwell.src.constants import *\n",
    "import os\n",
    "L0 = 1e-6;\n",
    "omega_p = 0.72*np.pi*1e15;\n",
    "gamma = 5.5e12;"
   ]
  },
  {
   "cell_type": "code",
   "execution_count": 37,
   "metadata": {},
   "outputs": [
    {
     "name": "stdout",
     "output_type": "stream",
     "text": [
      "/Users/nathanzhao/src/eigenwell/notebooks\n",
      "LICENSE            \u001b[34meigenwell.egg-info\u001b[m\u001b[m \u001b[34mnotebooks\u001b[m\u001b[m          \u001b[34msrc\u001b[m\u001b[m\n",
      "README.md          \u001b[34mexamples\u001b[m\u001b[m           requirements.txt   \u001b[34mtest\u001b[m\u001b[m\n",
      "\u001b[34mdist\u001b[m\u001b[m               img                setup.py\n"
     ]
    }
   ],
   "source": [
    "!pwd\n",
    "!ls ../"
   ]
  },
  {
   "cell_type": "code",
   "execution_count": 29,
   "metadata": {},
   "outputs": [
    {
     "name": "stdout",
     "output_type": "stream",
     "text": [
      "1.0030904122608217 0.8327656602589342 2261946710584651.0\n",
      "(500, 1)\n",
      "[3.9999999999999996e-10, 1]\n"
     ]
    }
   ],
   "source": [
    "omega_cutoff = 0.83020*omega_p;\n",
    "wvlen_cutoff = 2*np.pi*C0/omega_cutoff/1e-6;\n",
    "wvlen_cutoff2 = 2*np.pi*C0/(0.92*omega_p)/1e-6;\n",
    "lambda_p = 2*np.pi*C0/omega_p/1e-6;\n",
    "\n",
    "print(wvlen_cutoff, lambda_p, omega_p)\n",
    "\n",
    "wvlen_scan = np.linspace(0.7,20, 3000);\n",
    "epsilon_diel = 16;\n",
    "\n",
    "a = 0.2*L0; #lattice constant\n",
    "Nx = 500\n",
    "eps_r = epsilon_diel*np.ones((Nx, 1))\n",
    "eps_r = eps_r.astype('complex')\n",
    "print(eps_r.shape)\n",
    "fill_factor = 0.2;\n",
    "dx= a/Nx;\n",
    "\n",
    "dL = [dx, 1];\n",
    "N = [Nx, 1];\n",
    "print(dL)\n",
    "\n",
    "fd = FiniteDifference(dL,N)"
   ]
  },
  {
   "cell_type": "code",
   "execution_count": 30,
   "metadata": {},
   "outputs": [],
   "source": [
    "eigen = EigenGuideK2D(eps_r, fd, polarization = 'TM');\n"
   ]
  },
  {
   "cell_type": "code",
   "execution_count": 31,
   "metadata": {},
   "outputs": [],
   "source": [
    "kspectra = list();\n",
    "for i,wvlen in enumerate(wvlen_scan):\n",
    "    omega = 2*np.pi*C0/wvlen/L0;\n",
    "    epsilon_metal = 1-omega_p**2/(omega**2 - 1j*(gamma*omega))\n",
    "    eps_r[int(Nx/2-fill_factor*Nx/2): int(Nx/2+fill_factor*Nx/2)] = epsilon_metal;\n",
    "    eigen.update_structure(eps_r);\n",
    "    \n",
    "    neff = np.sqrt(np.max(np.real(eps_r)));\n",
    "    beta_est = abs(2*np.pi*neff / (wvlen*L0));\n",
    "    sigma = beta_est**2;\n",
    "    \n",
    "    kvals, modes = eigen.eigensolve(omega, sigma = sigma, num_modes = 10);\n",
    "    \n",
    "    kspectra.append(np.sqrt(kvals));\n",
    "\n",
    "kspectra = np.array(kspectra);\n",
    "\n",
    "omega_scan = 2*np.pi*C0/wvlen_scan/1e-6\n"
   ]
  },
  {
   "cell_type": "code",
   "execution_count": 49,
   "metadata": {},
   "outputs": [
    {
     "data": {
      "image/png": "[encoded data removed]",
      "text/plain": [
       "<Figure size 360x360 with 1 Axes>"
      ]
     },
     "metadata": {
      "needs_background": "light"
     },
     "output_type": "display_data"
    },
    {
     "name": "stdout",
     "output_type": "stream",
     "text": [
      "['IMI_band_structure.png']\n"
     ]
    }
   ],
   "source": [
    "plt.figure(figsize = (5,5));\n",
    "plt.plot(np.real(kspectra)*1e-6, omega_scan/omega_p, '.b', markersize = 2);\n",
    "plt.plot(np.imag(kspectra)*1e-6, omega_scan/omega_p, '.r', markersize = 2);\n",
    "plt.xlim((-30, 50))\n",
    "plt.xlabel('k (1/($\\mu$m))')\n",
    "plt.ylabel('$\\omega/\\omega_p$')\n",
    "plt.savefig(\"../img/IMI_band_structure.png\",dpi = 300)\n",
    "plt.show();\n",
    "#plt.plot(np.imag(kspectra), omega_scan/omega_p, '.r', markersize = 2);\n",
    "print(os.listdir(\"../img\"))"
   ]
  },
  {
   "cell_type": "markdown",
   "metadata": {},
   "source": [
    "## eigenTE"
   ]
  },
  {
   "cell_type": "code",
   "execution_count": 22,
   "metadata": {},
   "outputs": [],
   "source": [
    "eigen_te = EigenGuideK2D(eps_r, fd, polarization = 'TE');\n"
   ]
  },
  {
   "cell_type": "code",
   "execution_count": 23,
   "metadata": {},
   "outputs": [],
   "source": [
    "kspectra_te = list();\n",
    "for i,wvlen in enumerate(wvlen_scan):\n",
    "    omega = 2*np.pi*C0/wvlen/L0;\n",
    "    epsilon_metal = 1-omega_p**2/(omega**2 - 1j*(gamma*omega))\n",
    "    eps_r[int(Nx/2-fill_factor*Nx/2): int(Nx/2+fill_factor*Nx/2)] = epsilon_metal;\n",
    "    eigen.update_structure(eps_r);\n",
    "    \n",
    "    neff = np.sqrt(np.max(np.real(eps_r)));\n",
    "    beta_est = abs(2*np.pi*neff / (wvlen*L0));\n",
    "    sigma = beta_est**2;\n",
    "    \n",
    "    kvals, modes = eigen_te.eigensolve(omega, sigma = sigma, num_modes = 10);\n",
    "    \n",
    "    kspectra_te.append(np.sqrt(kvals));"
   ]
  },
  {
   "cell_type": "code",
   "execution_count": 24,
   "metadata": {},
   "outputs": [
    {
     "data": {
      "image/png": "[encoded data removed]",
      "text/plain": [
       "<Figure size 360x360 with 1 Axes>"
      ]
     },
     "metadata": {
      "needs_background": "light"
     },
     "output_type": "display_data"
    }
   ],
   "source": [
    "plt.figure(figsize = (5,5));\n",
    "plt.plot(np.real(kspectra), omega_scan/omega_p, '.b', markersize = 2);\n",
    "plt.plot(np.imag(kspectra), omega_scan/omega_p, '.r', markersize = 2);\n",
    "plt.xlim((-30e6, 50e6))\n",
    "plt.show();\n"
   ]
  },
  {
   "cell_type": "code",
   "execution_count": null,
   "metadata": {},
   "outputs": [],
   "source": []
  }
 ],
 "metadata": {
  "kernelspec": {
   "display_name": "Python 3",
   "language": "python",
   "name": "python3"
  },
  "language_info": {
   "codemirror_mode": {
    "name": "ipython",
    "version": 3
   },
   "file_extension": ".py",
   "mimetype": "text/x-python",
   "name": "python",
   "nbconvert_exporter": "python",
   "pygments_lexer": "ipython3",
   "version": "3.8.5"
  }
 },
 "nbformat": 4,
 "nbformat_minor": 4
}
