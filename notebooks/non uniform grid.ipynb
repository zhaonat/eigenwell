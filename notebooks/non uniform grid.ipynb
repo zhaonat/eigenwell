{
 "cells": [
  {
   "cell_type": "code",
   "execution_count": 2,
   "metadata": {},
   "outputs": [
    {
     "name": "stderr",
     "output_type": "stream",
     "text": [
      "/Users/nathanzhao/src/eigenwell/src/grid.py:23: SyntaxWarning: assertion is always true, perhaps remove parentheses?\n",
      "  assert (len(dL)==len(N) == 2, 'must specify 2 elem arr even for 1d sims')\n"
     ]
    }
   ],
   "source": [
    "import numpy as np\n",
    "import matplotlib.pyplot as plt\n",
    "from eigenwell.src.grid import *"
   ]
  },
  {
   "cell_type": "markdown",
   "metadata": {},
   "source": [
    "## gradually scaled non-uniform grid"
   ]
  },
  {
   "cell_type": "code",
   "execution_count": 3,
   "metadata": {},
   "outputs": [
    {
     "name": "stdout",
     "output_type": "stream",
     "text": [
      "[[ 50  50]\n",
      " [ 50  50]\n",
      " [100 100]\n",
      " [ 50  50]\n",
      " [ 50  50]]\n",
      "[[ 50  50]\n",
      " [ 50  50]\n",
      " [100 100]\n",
      " [ 50  50]\n",
      " [ 50  50]] 300 300\n"
     ]
    }
   ],
   "source": [
    "\n",
    "Nfine = [100,100]; #%specify nx, ny for each region\n",
    "Ncoarse = [50,50];\n",
    "Ntran =   [50,50];\n",
    "\n",
    "\n",
    "\n",
    "# 2) specify the dx and dy of each region\n",
    "dx1 = 0.02; dy1 = 0.02;\n",
    "dx2 = 0.005; dy2 = 0.005;\n",
    "dfine = [dx2, dy2];\n",
    "dcoarse = [dx1, dy1];\n",
    "dtran = [0 ,0];\n",
    "\n",
    "#3) stack the vectors\n",
    "#drt does not have a value...\n",
    "\n",
    "Nft = np.vstack((Ncoarse, Ntran, Nfine, Ntran, Ncoarse));\n",
    "drt = np.vstack((dcoarse, dtran, dfine, dtran, dcoarse));\n",
    "\n",
    "dr_mask = np.ones((np.sum(Nft[:,0]),np.sum(Nft[:,1]),2)); #mask stores dx, dy for every grid cell?\n",
    "\n",
    "print(Nft)\n",
    "\n",
    "print(Nft,np.sum(Nft[:,0]),np.sum(Nft[:,1]))\n",
    "\n",
    "# # we need a base scale dl\n",
    "# #scale is arbitrary, just take dcoarse;\n",
    "# dr_reference  = dcoarse;\n",
    "\n",
    "# #4) construct scaling vectors from this information\n",
    "# [dx_scale, dy_scale] = generate_nonuniform_scaling(Nft, drt./dr_reference);\n",
    "\n",
    "# ## calculate Ntot and Ltot\n",
    "# N = sum(Nft);\n",
    "# Lx = sum(dr_reference(1)*dx_scale);\n",
    "# Ly = sum(dr_reference(2)*dy_scale);\n",
    "# xrange = 0.5*[-Lx, Lx];\n",
    "# yrange = 0.5*[-Ly, Ly];\n",
    "# xrange_array = cumsum(dr_reference(1)*dx_scale)-Lx/2;\n",
    "# yrange_array = cumsum(dr_reference(1)*dy_scale)-Ly/2;\n",
    "# Nx = N(1); Ny = N(2);\n",
    "# ## output is a dxscale...dyscale\n",
    "\n",
    "\n",
    "\n"
   ]
  },
  {
   "cell_type": "code",
   "execution_count": 6,
   "metadata": {},
   "outputs": [
    {
     "name": "stdout",
     "output_type": "stream",
     "text": [
      "[0.02  0.02  0.02  0.02  0.02  0.02  0.02  0.02  0.02  0.02  0.02  0.02\n",
      " 0.02  0.02  0.02  0.02  0.02  0.02  0.02  0.02  0.02  0.02  0.02  0.02\n",
      " 0.02  0.02  0.02  0.02  0.02  0.02  0.02  0.02  0.02  0.02  0.02  0.02\n",
      " 0.02  0.02  0.02  0.02  0.02  0.02  0.02  0.02  0.02  0.02  0.02  0.02\n",
      " 0.02  0.02  1.    1.    1.    1.    1.    1.    1.    1.    1.    1.\n",
      " 1.    1.    1.    1.    1.    1.    1.    1.    1.    1.    1.    1.\n",
      " 1.    1.    1.    1.    1.    1.    1.    1.    1.    1.    1.    1.\n",
      " 1.    1.    1.    1.    1.    1.    1.    1.    1.    1.    1.    1.\n",
      " 1.    1.    1.    1.    0.005 0.005 0.005 0.005 0.005 0.005 0.005 0.005\n",
      " 0.005 0.005 0.005 0.005 0.005 0.005 0.005 0.005 0.005 0.005 0.005 0.005\n",
      " 0.005 0.005 0.005 0.005 0.005 0.005 0.005 0.005 0.005 0.005 0.005 0.005\n",
      " 0.005 0.005 0.005 0.005 0.005 0.005 0.005 0.005 0.005 0.005 0.005 0.005\n",
      " 0.005 0.005 0.005 0.005 0.005 0.005 0.005 0.005 0.005 0.005 0.005 0.005\n",
      " 0.005 0.005 0.005 0.005 0.005 0.005 0.005 0.005 0.005 0.005 0.005 0.005\n",
      " 0.005 0.005 0.005 0.005 0.005 0.005 0.005 0.005 0.005 0.005 0.005 0.005\n",
      " 0.005 0.005 0.005 0.005 0.005 0.005 0.005 0.005 0.005 0.005 0.005 0.005\n",
      " 0.005 0.005 0.005 0.005 0.005 0.005 0.005 0.005 1.    1.    1.    1.\n",
      " 1.    1.    1.    1.    1.    1.    1.    1.    1.    1.    1.    1.\n",
      " 1.    1.    1.    1.    1.    1.    1.    1.    1.    1.    1.    1.\n",
      " 1.    1.    1.    1.    1.    1.    1.    1.    1.    1.    1.    1.\n",
      " 1.    1.    1.    1.    1.    1.    1.    1.    1.    1.    0.02  0.02\n",
      " 0.02  0.02  0.02  0.02  0.02  0.02  0.02  0.02  0.02  0.02  0.02  0.02\n",
      " 0.02  0.02  0.02  0.02  0.02  0.02  0.02  0.02  0.02  0.02  0.02  0.02\n",
      " 0.02  0.02  0.02  0.02  0.02  0.02  0.02  0.02  0.02  0.02  0.02  0.02\n",
      " 0.02  0.02  0.02  0.02  0.02  0.02  0.02  0.02  0.02  0.02  0.02  0.02 ]\n",
      "[0.02       0.02       0.02       0.02       0.02       0.02\n",
      " 0.02       0.02       0.02       0.02       0.02       0.02\n",
      " 0.02       0.02       0.02       0.02       0.02       0.02\n",
      " 0.02       0.02       0.02       0.02       0.02       0.02\n",
      " 0.02       0.02       0.02       0.02       0.02       0.02\n",
      " 0.02       0.02       0.02       0.02       0.02       0.02\n",
      " 0.02       0.02       0.02       0.02       0.02       0.02\n",
      " 0.02       0.02       0.02       0.02       0.02       0.02\n",
      " 0.02       0.02       0.0194531  0.01892115 0.01840375 0.0179005\n",
      " 0.01741101 0.01693491 0.01647182 0.0160214  0.01558329 0.01515717\n",
      " 0.01474269 0.01433955 0.01394744 0.01356604 0.01319508 0.01283426\n",
      " 0.01248331 0.01214195 0.01180993 0.01148698 0.01117287 0.01086735\n",
      " 0.01057018 0.01028114 0.01       0.00972655 0.00946058 0.00920188\n",
      " 0.00895025 0.00870551 0.00846745 0.00823591 0.0080107  0.00779165\n",
      " 0.00757858 0.00737135 0.00716978 0.00697372 0.00678302 0.00659754\n",
      " 0.00641713 0.00624165 0.00607097 0.00590496 0.00574349 0.00558644\n",
      " 0.00543367 0.00528509 0.00514057 0.005      0.005      0.005\n",
      " 0.005      0.005      0.005      0.005      0.005      0.005\n",
      " 0.005      0.005      0.005      0.005      0.005      0.005\n",
      " 0.005      0.005      0.005      0.005      0.005      0.005\n",
      " 0.005      0.005      0.005      0.005      0.005      0.005\n",
      " 0.005      0.005      0.005      0.005      0.005      0.005\n",
      " 0.005      0.005      0.005      0.005      0.005      0.005\n",
      " 0.005      0.005      0.005      0.005      0.005      0.005\n",
      " 0.005      0.005      0.005      0.005      0.005      0.005\n",
      " 0.005      0.005      0.005      0.005      0.005      0.005\n",
      " 0.005      0.005      0.005      0.005      0.005      0.005\n",
      " 0.005      0.005      0.005      0.005      0.005      0.005\n",
      " 0.005      0.005      0.005      0.005      0.005      0.005\n",
      " 0.005      0.005      0.005      0.005      0.005      0.005\n",
      " 0.005      0.005      0.005      0.005      0.005      0.005\n",
      " 0.005      0.005      0.005      0.005      0.005      0.005\n",
      " 0.005      0.005      0.005      0.005      0.005      0.005\n",
      " 0.005      0.005      0.00514057 0.00528509 0.00543367 0.00558644\n",
      " 0.00574349 0.00590496 0.00607097 0.00624165 0.00641713 0.00659754\n",
      " 0.00678302 0.00697372 0.00716978 0.00737135 0.00757858 0.00779165\n",
      " 0.0080107  0.00823591 0.00846745 0.00870551 0.00895025 0.00920188\n",
      " 0.00946058 0.00972655 0.01       0.01028114 0.01057018 0.01086735\n",
      " 0.01117287 0.01148698 0.01180993 0.01214195 0.01248331 0.01283426\n",
      " 0.01319508 0.01356604 0.01394744 0.01433955 0.01474269 0.01515717\n",
      " 0.01558329 0.0160214  0.01647182 0.01693491 0.01741101 0.0179005\n",
      " 0.01840375 0.01892115 0.0194531  0.02       0.02       0.02\n",
      " 0.02       0.02       0.02       0.02       0.02       0.02\n",
      " 0.02       0.02       0.02       0.02       0.02       0.02\n",
      " 0.02       0.02       0.02       0.02       0.02       0.02\n",
      " 0.02       0.02       0.02       0.02       0.02       0.02\n",
      " 0.02       0.02       0.02       0.02       0.02       0.02\n",
      " 0.02       0.02       0.02       0.02       0.02       0.02\n",
      " 0.02       0.02       0.02       0.02       0.02       0.02\n",
      " 0.02       0.02       0.02       0.02       0.02       0.02      ]\n"
     ]
    },
    {
     "data": {
      "image/png": "[encoded data removed]",
      "text/plain": [
       "<Figure size 432x288 with 1 Axes>"
      ]
     },
     "metadata": {
      "needs_background": "light"
     },
     "output_type": "display_data"
    }
   ],
   "source": [
    "Nx = np.sum(Nft[:,0]);\n",
    "Ny = np.sum(Nft[:,1]);\n",
    "dx_scale = np.ones(Nx)\n",
    "dy_scale = np.ones(Ny);\n",
    "\n",
    "num_regions = Nft.shape[0]; #iterate through 0,2,4\n",
    "x0 = y0 = 0;\n",
    "for i in range(0,num_regions,2):\n",
    "    dx_scale[x0:x0+Nft[i,0]] = drt[i,0];\n",
    "    dy_scale[y0:y0+Nft[i,1]] = drt[i,1];\n",
    "    if(i==num_regions-1): #%no transition after last region\n",
    "        x0 = x0+Nft[i,0];\n",
    "        y0 = y0+Nft[i,1];\n",
    "    else:\n",
    "        x0 = x0+Nft[i,0]+Nft[i+1,0];\n",
    "        y0 = y0+Nft[i,1]+Nft[i+1,1];\n",
    "\n",
    "print(dx_scale)        \n",
    "\n",
    "x0 = Nft[1,0]; y0 = Nft[1,1];\n",
    "for i in range(1, num_regions,2): #2:2:num_regions\n",
    "    dx1 = drt[i-1,0]; dx2 = drt[i+1,0];\n",
    "    dy1 = drt[i-1,1]; dy2 = drt[i+1,1];\n",
    "    nxt = Nft[i,0]; nyt = Nft[i,1];\n",
    "\n",
    "    grading_x = np.logspace(np.log10(dx1), np.log10(dx2), nxt+1);\n",
    "    grading_y = np.logspace(np.log10(dy1), np.log10(dy2), nyt+1);\n",
    "\n",
    "    dx_scale[x0-1:x0+nxt] = grading_x;\n",
    "    dy_scale[y0-1:y0+nyt] = grading_y;\n",
    "    \n",
    "    x0 = x0+Nft[i,0]+Nft[i+1,0];\n",
    "    y0 = y0+Nft[i,1]+Nft[i+1,1];\n",
    "    \n",
    "print(dx_scale)\n",
    "\n",
    "plt.plot(dx_scale)\n",
    "## ========================================================================\n",
    "## integrate into an operator\n",
    "## ========================================================================\n",
    "\n",
    "[Xs, Ys] = np.meshgrid(dx_scale, dy_scale);\n",
    "#meshgrid isn't right for y\n",
    "M = np.prod(Xs.shape)\n",
    "\n",
    "# we have to this kind of flip because the flattening\n",
    "# operation (:) doesn't retain row-major order\n",
    "Ys=Ys.T; Xs = Xs.T;\n",
    "Fsy = sp.spdiags(Ys.flatten(),0,M,M);\n",
    "Fsx = sp.spdiags(Xs.flatten(),0,M,M);\n",
    "\n",
    "# might as well construct the conjugate grid. What is the conjugate grid?\n",
    "xc = (dx_scale+np.roll(dx_scale,[0,1]))/2;\n",
    "yc = (dy_scale+np.roll(dy_scale,[0,1]))/2;\n",
    "\n",
    "[Xc, Yc] = np.meshgrid(xc, yc);\n",
    "Xc = Xc.T;\n",
    "Yc = Yc.T;\n",
    "Fsy_conj = sp.spdiags(Yc.flatten(),0,M,M);\n",
    "Fsx_conj = sp.spdiags(Xc.flatten(),0,M,M);\n",
    "    \n",
    "\n",
    "# Dxf = Fsx^-1*createDws('x', 'f', dL, N);%*Fsx; \n",
    "# Dyf = Fsy^-1*createDws('y', 'f', dL, N);%*Fsy;\n",
    "# Dyb = Fsy_conj^-1*createDws('y', 'b', dL, N);%*Fsx_conj; \n",
    "# Dxb = Fsx_conj^-1*createDws('x', 'b', dL, N);%*Fsy_conj; \n"
   ]
  },
  {
   "cell_type": "code",
   "execution_count": 36,
   "metadata": {},
   "outputs": [
    {
     "name": "stderr",
     "output_type": "stream",
     "text": [
      "<ipython-input-36-37940967c2d5>:4: MatplotlibDeprecationWarning: shading='flat' when X and Y have the same dimensions as C is deprecated since 3.3.  Either specify the corners of the quadrilaterals with X and Y, or pass shading='auto', 'nearest' or 'gouraud', or set rcParams['pcolor.shading'].  This will become an error two minor releases later.\n",
      "  plt.pcolormesh(Xs.T, Ys.T, np.zeros_like(Xs), cmap = 'cool', linewidth = 0.25, color = 'black')\n"
     ]
    },
    {
     "data": {
      "image/png": "[encoded data removed]",
      "text/plain": [
       "<Figure size 1440x1440 with 1 Axes>"
      ]
     },
     "metadata": {
      "needs_background": "light"
     },
     "output_type": "display_data"
    }
   ],
   "source": [
    "## visualizing a non-uniform grid\n",
    "plt.figure(figsize = (20,20))\n",
    "ax = plt.subplot(1,1,1)\n",
    "plt.pcolormesh(Xs.T, Ys.T, np.zeros_like(Xs), cmap = 'cool', linewidth = 0.25, color = 'black')\n",
    "plt.show();"
   ]
  },
  {
   "cell_type": "code",
   "execution_count": null,
   "metadata": {},
   "outputs": [],
   "source": [
    "## PML specification\n",
    "Npml = [20,20];"
   ]
  }
 ],
 "metadata": {
  "kernelspec": {
   "display_name": "Python 3",
   "language": "python",
   "name": "python3"
  },
  "language_info": {
   "codemirror_mode": {
    "name": "ipython",
    "version": 3
   },
   "file_extension": ".py",
   "mimetype": "text/x-python",
   "name": "python",
   "nbconvert_exporter": "python",
   "pygments_lexer": "ipython3",
   "version": "3.8.5"
  }
 },
 "nbformat": 4,
 "nbformat_minor": 4
}
