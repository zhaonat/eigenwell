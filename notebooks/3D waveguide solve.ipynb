{
 "cells": [
  {
   "cell_type": "code",
   "execution_count": 10,
   "metadata": {},
   "outputs": [
    {
     "name": "stdout",
     "output_type": "stream",
     "text": [
      "['2d photonic crystal.ipynb', 'check_pml.ipynb', '3D waveguide solve.ipynb', '__init__.py', 'modes of a waveguide.ipynb', 'IMI-MIM.ipynb', 'test_pml_grid_preconditioners.ipynb', '.ipynb_checkpoints', '1D Bragg Mirror.ipynb']\n"
     ]
    }
   ],
   "source": [
    "import numpy as np\n",
    "import numba\n",
    "import scipy.sparse as sp\n",
    "import matplotlib.pyplot as plt\n",
    "import sys\n",
    "import os\n",
    "\n",
    "from eigenwell.src import grid, grid_preconditioner\n",
    "from eigenwell.src.constants import *\n",
    "\n",
    "#import eigenwell.boundary\n",
    "print(os.listdir())\n"
   ]
  },
  {
   "cell_type": "markdown",
   "metadata": {},
   "source": [
    "## Equations for a general waveguide with propagation constant $\\beta$ in z\n",
    "\\begin{equation}\n",
    "    \\omega^2 \\mu_0 T_{\\epsilon_y}h_x - T_{\\epsilon_y} D_y^{f}T_{\\epsilon_z}^{-1}\\bigg(D_x^{b}h_y - D_y^{b}h_x\\bigg) + D_x^{b}\\bigg(D_x^{f}h_x - D_y^{f}h_y \\bigg) = \\beta^2 h_x\n",
    "\\end{equation}\n",
    "\\begin{equation}\n",
    "    \\omega^2 \\mu_0 T_{\\epsilon_y}h_x - T_{\\epsilon_y} D_y^{f}T_{\\epsilon_z}^{-1}\\bigg(D_x^{b}h_y - D_y^{b}h_x\\bigg) + D_x^{b}\\bigg(D_x^{f}h_x - D_y^{f}h_y \\bigg) = \\beta^2 h_x\n",
    "\\end{equation}\n",
    "\n",
    "In full operator notation\n",
    "\\begin{equation}\n",
    "    \\omega^2 \\mu_0 \\begin{bmatrix}\n",
    "        T_{\\epsilon_y} & \\\\\n",
    "        & T_{\\epsilon_x} \n",
    "    \\end{bmatrix}\n",
    "    +\n",
    "    \\begin{bmatrix}\n",
    "        T_{\\epsilon_y} & \\\\\n",
    "        & T_{\\epsilon_x} \n",
    "    \\end{bmatrix}     \\begin{bmatrix}\n",
    "        -D_y^{f} \\\\\n",
    "        D_x^{f}\n",
    "    \\end{bmatrix} T_{\\epsilon_z}^{-1} \\begin{bmatrix}\n",
    "        -D_y^{b} &\n",
    "        D_x^{b}\n",
    "    \\end{bmatrix} +\\begin{bmatrix}\n",
    "        D_x^{b} \\\\\n",
    "        D_y^{b}\n",
    "    \\end{bmatrix} \\begin{bmatrix}\n",
    "        D_x^{f} &\n",
    "        D_y^{f}\n",
    "    \\end{bmatrix}\n",
    "\\end{equation}\n",
    "\n"
   ]
  },
  {
   "cell_type": "code",
   "execution_count": 16,
   "metadata": {},
   "outputs": [
    {
     "name": "stdout",
     "output_type": "stream",
     "text": [
      "[-2.5e-07, 2.5e-07]\n"
     ]
    },
    {
     "data": {
      "image/png": "[encoded data removed]",
      "text/plain": [
       "<Figure size 432x288 with 1 Axes>"
      ]
     },
     "metadata": {
      "needs_background": "light"
     },
     "output_type": "display_data"
    },
    {
     "name": "stdout",
     "output_type": "stream",
     "text": [
      "(5000, 2500)\n",
      "(5000, 5000)\n",
      "1.8836715459105513 1.2566370614359173e-06 25640\n"
     ]
    },
    {
     "data": {
      "image/png": "[encoded data removed]",
      "text/plain": [
       "<Figure size 720x720 with 1 Axes>"
      ]
     },
     "metadata": {
      "needs_background": "light"
     },
     "output_type": "display_data"
    }
   ],
   "source": [
    "L0 = 1e-6\n",
    "\n",
    "N = [50,50]\n",
    "Npml = [10,10]\n",
    "dL = [0.01*L0, 0.01*L0]\n",
    "Lx, Ly = [N[0]*dL[0], N[1]*dL[1]]\n",
    "xrange = [-Lx/2, Lx/2]\n",
    "yrange = [-Ly/2, Ly/2]\n",
    "print(xrange)\n",
    "\n",
    "wvlen = 1e-6;\n",
    "\n",
    "omega = 2*np.pi*C0/wvlen;\n",
    "\n",
    "pml = grid_preconditioner.PML(N,Npml, omega);\n",
    "pml.Soperators(xrange, yrange);\n",
    "\n",
    "epsilon = np.ones(N)\n",
    "epsilon[20:30, 20:30] = 6.25\n",
    "plt.figure();\n",
    "plt.imshow(epsilon);\n",
    "plt.show();\n",
    "\n",
    "\n",
    "Tez = sp.diags(EPSILON0*epsilon.flatten())\n",
    "Tey = sp.diags(EPSILON0*epsilon.flatten())\n",
    "Tex = sp.diags(EPSILON0*epsilon.flatten())\n",
    "invTez = sp.diags(1/(EPSILON0*epsilon.flatten()))\n",
    "\n",
    "fd = grid.FiniteDifference(dL,N)\n",
    "\n",
    "fd.make_derivatives(PML = pml)\n",
    "Dxf = fd.Dxf;\n",
    "Dxb = fd.Dxb;\n",
    "Dyf = fd.Dyf;\n",
    "Dyb = fd.Dyb;\n",
    "\n",
    "## generate operator\n",
    "Dop1 = sp.bmat([[-Dyf], [Dxf]])\n",
    "print(Dop1.shape)\n",
    "\n",
    "Dop2 = sp.bmat([[-Dyb,Dxb]])\n",
    "\n",
    "Dop3 = sp.bmat([[Dxb], [Dyb]])\n",
    "\n",
    "Dop4 = sp.bmat([[Dxf,Dyf]])\n",
    "\n",
    "Tep = sp.block_diag((Tey, Tex))\n",
    "\n",
    "\n",
    "A = omega**2*MU0*Tep + Tep@(Dop1)@invTez@(Dop2) + Dop3@Dop4\n",
    "print(A.shape)\n",
    "plt.figure(figsize = (10,10))\n",
    "plt.spy(Tep@(Dop1)@invTez@(Dop2), markersize = 0.1)\n",
    "\n",
    "print(omega*1e-15, MU0, A.count_nonzero())"
   ]
  },
  {
   "cell_type": "code",
   "execution_count": 14,
   "metadata": {},
   "outputs": [
    {
     "ename": "KeyboardInterrupt",
     "evalue": "",
     "output_type": "error",
     "traceback": [
      "\u001b[0;31m---------------------------------------------------------------------------\u001b[0m",
      "\u001b[0;31mKeyboardInterrupt\u001b[0m                         Traceback (most recent call last)",
      "\u001b[0;32m<ipython-input-14-85873c1ed274>\u001b[0m in \u001b[0;36m<module>\u001b[0;34m\u001b[0m\n\u001b[1;32m      2\u001b[0m \u001b[0;32mfrom\u001b[0m \u001b[0mscipy\u001b[0m\u001b[0;34m.\u001b[0m\u001b[0msparse\u001b[0m\u001b[0;34m.\u001b[0m\u001b[0mlinalg\u001b[0m \u001b[0;32mimport\u001b[0m \u001b[0meigs\u001b[0m\u001b[0;34m\u001b[0m\u001b[0;34m\u001b[0m\u001b[0m\n\u001b[1;32m      3\u001b[0m \u001b[0mK\u001b[0m \u001b[0;34m=\u001b[0m \u001b[0;36m2\u001b[0m\u001b[0;34m\u001b[0m\u001b[0;34m\u001b[0m\u001b[0m\n\u001b[0;32m----> 4\u001b[0;31m \u001b[0mvals\u001b[0m\u001b[0;34m,\u001b[0m \u001b[0mvecs\u001b[0m \u001b[0;34m=\u001b[0m \u001b[0meigs\u001b[0m\u001b[0;34m(\u001b[0m\u001b[0mA\u001b[0m\u001b[0;34m,\u001b[0m \u001b[0mk\u001b[0m \u001b[0;34m=\u001b[0m \u001b[0mK\u001b[0m\u001b[0;34m,\u001b[0m \u001b[0mwhich\u001b[0m \u001b[0;34m=\u001b[0m \u001b[0;34m'SM'\u001b[0m\u001b[0;34m)\u001b[0m\u001b[0;34m\u001b[0m\u001b[0;34m\u001b[0m\u001b[0m\n\u001b[0m",
      "\u001b[0;32m~/opt/anaconda3/lib/python3.8/site-packages/scipy/sparse/linalg/eigen/arpack/arpack.py\u001b[0m in \u001b[0;36meigs\u001b[0;34m(A, k, M, sigma, which, v0, ncv, maxiter, tol, return_eigenvectors, Minv, OPinv, OPpart)\u001b[0m\n\u001b[1;32m   1345\u001b[0m     \u001b[0;32mwith\u001b[0m \u001b[0m_ARPACK_LOCK\u001b[0m\u001b[0;34m:\u001b[0m\u001b[0;34m\u001b[0m\u001b[0;34m\u001b[0m\u001b[0m\n\u001b[1;32m   1346\u001b[0m         \u001b[0;32mwhile\u001b[0m \u001b[0;32mnot\u001b[0m \u001b[0mparams\u001b[0m\u001b[0;34m.\u001b[0m\u001b[0mconverged\u001b[0m\u001b[0;34m:\u001b[0m\u001b[0;34m\u001b[0m\u001b[0;34m\u001b[0m\u001b[0m\n\u001b[0;32m-> 1347\u001b[0;31m             \u001b[0mparams\u001b[0m\u001b[0;34m.\u001b[0m\u001b[0miterate\u001b[0m\u001b[0;34m(\u001b[0m\u001b[0;34m)\u001b[0m\u001b[0;34m\u001b[0m\u001b[0;34m\u001b[0m\u001b[0m\n\u001b[0m\u001b[1;32m   1348\u001b[0m \u001b[0;34m\u001b[0m\u001b[0m\n\u001b[1;32m   1349\u001b[0m         \u001b[0;32mreturn\u001b[0m \u001b[0mparams\u001b[0m\u001b[0;34m.\u001b[0m\u001b[0mextract\u001b[0m\u001b[0;34m(\u001b[0m\u001b[0mreturn_eigenvectors\u001b[0m\u001b[0;34m)\u001b[0m\u001b[0;34m\u001b[0m\u001b[0;34m\u001b[0m\u001b[0m\n",
      "\u001b[0;32m~/opt/anaconda3/lib/python3.8/site-packages/scipy/sparse/linalg/eigen/arpack/arpack.py\u001b[0m in \u001b[0;36miterate\u001b[0;34m(self)\u001b[0m\n\u001b[1;32m    728\u001b[0m         \u001b[0;32melse\u001b[0m\u001b[0;34m:\u001b[0m\u001b[0;34m\u001b[0m\u001b[0;34m\u001b[0m\u001b[0m\n\u001b[1;32m    729\u001b[0m             \u001b[0mself\u001b[0m\u001b[0;34m.\u001b[0m\u001b[0mido\u001b[0m\u001b[0;34m,\u001b[0m \u001b[0mself\u001b[0m\u001b[0;34m.\u001b[0m\u001b[0mtol\u001b[0m\u001b[0;34m,\u001b[0m \u001b[0mself\u001b[0m\u001b[0;34m.\u001b[0m\u001b[0mresid\u001b[0m\u001b[0;34m,\u001b[0m \u001b[0mself\u001b[0m\u001b[0;34m.\u001b[0m\u001b[0mv\u001b[0m\u001b[0;34m,\u001b[0m \u001b[0mself\u001b[0m\u001b[0;34m.\u001b[0m\u001b[0miparam\u001b[0m\u001b[0;34m,\u001b[0m \u001b[0mself\u001b[0m\u001b[0;34m.\u001b[0m\u001b[0mipntr\u001b[0m\u001b[0;34m,\u001b[0m \u001b[0mself\u001b[0m\u001b[0;34m.\u001b[0m\u001b[0minfo\u001b[0m \u001b[0;34m=\u001b[0m\u001b[0;31m\\\u001b[0m\u001b[0;34m\u001b[0m\u001b[0;34m\u001b[0m\u001b[0m\n\u001b[0;32m--> 730\u001b[0;31m                 self._arpack_solver(self.ido, self.bmat, self.which, self.k,\n\u001b[0m\u001b[1;32m    731\u001b[0m                                     \u001b[0mself\u001b[0m\u001b[0;34m.\u001b[0m\u001b[0mtol\u001b[0m\u001b[0;34m,\u001b[0m \u001b[0mself\u001b[0m\u001b[0;34m.\u001b[0m\u001b[0mresid\u001b[0m\u001b[0;34m,\u001b[0m \u001b[0mself\u001b[0m\u001b[0;34m.\u001b[0m\u001b[0mv\u001b[0m\u001b[0;34m,\u001b[0m \u001b[0mself\u001b[0m\u001b[0;34m.\u001b[0m\u001b[0miparam\u001b[0m\u001b[0;34m,\u001b[0m\u001b[0;34m\u001b[0m\u001b[0;34m\u001b[0m\u001b[0m\n\u001b[1;32m    732\u001b[0m                                     \u001b[0mself\u001b[0m\u001b[0;34m.\u001b[0m\u001b[0mipntr\u001b[0m\u001b[0;34m,\u001b[0m \u001b[0mself\u001b[0m\u001b[0;34m.\u001b[0m\u001b[0mworkd\u001b[0m\u001b[0;34m,\u001b[0m \u001b[0mself\u001b[0m\u001b[0;34m.\u001b[0m\u001b[0mworkl\u001b[0m\u001b[0;34m,\u001b[0m\u001b[0;34m\u001b[0m\u001b[0;34m\u001b[0m\u001b[0m\n",
      "\u001b[0;31mKeyboardInterrupt\u001b[0m: "
     ]
    }
   ],
   "source": [
    "## use eigs\n",
    "from scipy.sparse.linalg import eigs\n",
    "K = 2\n",
    "vals, vecs = eigs(A, k = K, which = 'SM')"
   ]
  },
  {
   "cell_type": "code",
   "execution_count": null,
   "metadata": {},
   "outputs": [],
   "source": [
    "for i in range(K):\n",
    "    v = vecs[:,i]\n",
    "    hx = v[0:np.prod(N)].reshape(N)\n",
    "    hy = v[np.prod(N):].reshape(N)\n",
    "    plt.figure();\n",
    "    plt.imshow(np.abs(hy), cmap = 'hot')\n",
    "    plt.colorbar();"
   ]
  },
  {
   "cell_type": "code",
   "execution_count": null,
   "metadata": {},
   "outputs": [],
   "source": []
  },
  {
   "cell_type": "code",
   "execution_count": null,
   "metadata": {},
   "outputs": [],
   "source": []
  },
  {
   "cell_type": "code",
   "execution_count": null,
   "metadata": {},
   "outputs": [],
   "source": []
  }
 ],
 "metadata": {
  "kernelspec": {
   "display_name": "Python 3",
   "language": "python",
   "name": "python3"
  },
  "language_info": {
   "codemirror_mode": {
    "name": "ipython",
    "version": 3
   },
   "file_extension": ".py",
   "mimetype": "text/x-python",
   "name": "python",
   "nbconvert_exporter": "python",
   "pygments_lexer": "ipython3",
   "version": "3.8.5"
  }
 },
 "nbformat": 4,
 "nbformat_minor": 4
}
