{
 "cells": [
  {
   "cell_type": "markdown",
   "metadata": {},
   "source": [
    "## TM polarization\n",
    "We should be able to see surface plasmons for a metal-air interface"
   ]
  },
  {
   "cell_type": "code",
   "execution_count": 19,
   "metadata": {},
   "outputs": [],
   "source": [
    "import numpy as np\n",
    "import matplotlib.pyplot as plt\n",
    "import sys\n",
    "from eigenwell.src import grid,eigen_w\n",
    "from eigenwell.src.constants import *"
   ]
  },
  {
   "cell_type": "code",
   "execution_count": 20,
   "metadata": {},
   "outputs": [
    {
     "name": "stdout",
     "output_type": "stream",
     "text": [
      "(80, 80)\n",
      "(6400, 6400)\n"
     ]
    },
    {
     "data": {
      "image/png": "[encoded data removed]",
      "text/plain": [
       "<Figure size 432x288 with 1 Axes>"
      ]
     },
     "metadata": {
      "needs_background": "light"
     },
     "output_type": "display_data"
    }
   ],
   "source": [
    "Nx = 80;\n",
    "Ny = 80;\n",
    "N = np.array([Nx, Ny]);\n",
    "\n",
    "eps_r = np.ones(N);\n",
    "\n",
    "a = np.array([1,1]);\n",
    "dL = a/N;\n",
    "radius = 0.25;\n",
    "## put in a circle;\n",
    "ci = int(Nx/2); cj= int(Ny/2);\n",
    "\n",
    "eps_r = eps_r.astype('complex')\n",
    "eps_r[0:ci,:] = -2+1e-2*1j;\n",
    "\n",
    "print(eps_r.shape)\n",
    "\n",
    "plt.imshow(np.real(eps_r))\n",
    "wvlen_scan = np.linspace(1.01, 20, 100);\n",
    "wvlen_scan = np.logspace(np.log10(0.8), np.log10(10), 600);\n",
    "\n",
    "\n",
    "fd = grid.FiniteDifference(dL,N)\n",
    "\n",
    "print(fd.Dxf.shape)\n",
    "\n"
   ]
  },
  {
   "cell_type": "code",
   "execution_count": 21,
   "metadata": {},
   "outputs": [],
   "source": [
    "eigenTM = eigen_w.EigenOmega2D(eps_r, fd)"
   ]
  },
  {
   "cell_type": "code",
   "execution_count": null,
   "metadata": {},
   "outputs": [],
   "source": [
    "eigenvals, eigenmodes = eigenTM.eigensolve(num_modes = 5)"
   ]
  },
  {
   "cell_type": "code",
   "execution_count": null,
   "metadata": {},
   "outputs": [],
   "source": []
  },
  {
   "cell_type": "code",
   "execution_count": null,
   "metadata": {},
   "outputs": [],
   "source": []
  }
 ],
 "metadata": {
  "kernelspec": {
   "display_name": "Python 3",
   "language": "python",
   "name": "python3"
  },
  "language_info": {
   "codemirror_mode": {
    "name": "ipython",
    "version": 3
   },
   "file_extension": ".py",
   "mimetype": "text/x-python",
   "name": "python",
   "nbconvert_exporter": "python",
   "pygments_lexer": "ipython3",
   "version": "3.8.5"
  }
 },
 "nbformat": 4,
 "nbformat_minor": 4
}
