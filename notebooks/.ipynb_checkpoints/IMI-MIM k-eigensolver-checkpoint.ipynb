{
 "cells": [
  {
   "cell_type": "code",
   "execution_count": 1,
   "metadata": {},
   "outputs": [],
   "source": [
    "import numpy as np\n",
    "import matplotlib.pyplot as plt\n",
    "from eigenwell.src.eigen_guide import *\n",
    "from eigenwell.src.constants import *\n",
    "from eigenwell.src.structure import *\n",
    "import scipy.sparse.linalg as la\n",
    "import os\n",
    "L0 = 1e-6;\n",
    "omega_p = 0.72*np.pi*1e15;\n",
    "gamma = 5.5e12;"
   ]
  },
  {
   "cell_type": "markdown",
   "metadata": {},
   "source": [
    "## Example of a Dispersive Eigensolver\n",
    "We're using a material which changes in dielectric with frequency $\\epsilon(\\omega)$"
   ]
  },
  {
   "cell_type": "code",
   "execution_count": 2,
   "metadata": {},
   "outputs": [
    {
     "name": "stdout",
     "output_type": "stream",
     "text": [
      "/Users/nathanzhao/src/eigenwell/notebooks\n",
      "LICENSE            \u001b[34meigenwell.egg-info\u001b[m\u001b[m \u001b[34mnotebooks\u001b[m\u001b[m          \u001b[34msrc\u001b[m\u001b[m\n",
      "README.md          \u001b[34mexamples\u001b[m\u001b[m           requirements.txt   \u001b[34mtest\u001b[m\u001b[m\n",
      "\u001b[34mdist\u001b[m\u001b[m               \u001b[34mimg\u001b[m\u001b[m                setup.py\n"
     ]
    }
   ],
   "source": [
    "!pwd\n",
    "!ls ../"
   ]
  },
  {
   "cell_type": "code",
   "execution_count": 13,
   "metadata": {},
   "outputs": [
    {
     "name": "stdout",
     "output_type": "stream",
     "text": [
      "1.0030904122608217 0.8327656602589342 2261946710584651.0\n",
      "(500, 1)\n",
      "[3.9999999999999996e-10, 1]\n"
     ]
    }
   ],
   "source": [
    "omega_cutoff = 0.83020*omega_p;\n",
    "wvlen_cutoff = 2*np.pi*C0/omega_cutoff/1e-6;\n",
    "wvlen_cutoff2 = 2*np.pi*C0/(0.92*omega_p)/1e-6;\n",
    "lambda_p = 2*np.pi*C0/omega_p/1e-6;\n",
    "\n",
    "print(wvlen_cutoff, lambda_p, omega_p)\n",
    "\n",
    "wvlen_scan = np.linspace(0.7,20, 1000);\n",
    "epsilon_diel = 16;\n",
    "\n",
    "a = 0.2*L0; #lattice constant\n",
    "Nx = 500\n",
    "eps_r = epsilon_diel*np.ones((Nx, 1))\n",
    "eps_r = eps_r.astype('complex')\n",
    "print(eps_r.shape)\n",
    "fill_factor = 0.2;\n",
    "dx= a/Nx;\n",
    "\n",
    "dL = [dx, 1];\n",
    "N = [Nx, 1];\n",
    "L = [a, 1]\n",
    "print(dL)\n",
    "\n",
    "fd = FiniteDifferenceGrid(dL,N)"
   ]
  },
  {
   "cell_type": "code",
   "execution_count": 14,
   "metadata": {},
   "outputs": [],
   "source": [
    "struct = Structure(eps_r, L)\n",
    "\n",
    "eigen = EigenGuide2D(struct, polarization = 'TM');\n"
   ]
  },
  {
   "cell_type": "code",
   "execution_count": 15,
   "metadata": {},
   "outputs": [],
   "source": [
    "kspectra = list();\n",
    "for i,wvlen in enumerate(wvlen_scan):\n",
    "    omega = 2*np.pi*C0/wvlen/L0;\n",
    "    epsilon_metal = 1-omega_p**2/(omega**2 - 1j*(gamma*omega))\n",
    "    eps_r[int(Nx/2-fill_factor*Nx/2): int(Nx/2+fill_factor*Nx/2)] = epsilon_metal;\n",
    "    struct = Structure(eps_r, L)\n",
    "\n",
    "    eigen.update_structure(struct);\n",
    "    eigen.make_operator_components(omega);\n",
    "    \n",
    "    \n",
    "    neff = np.sqrt(np.max(np.real(eps_r)));\n",
    "    beta_est = abs(2*np.pi*neff / (wvlen*L0));\n",
    "    sigma = beta_est**2;\n",
    "    \n",
    "    Aop = eigen.A;\n",
    "    kvals, modes = la.eigs(Aop, sigma = sigma, k = 10);\n",
    "    \n",
    "    kspectra.append(np.sqrt(kvals));\n",
    "\n",
    "kspectra = np.array(kspectra);\n",
    "\n"
   ]
  },
  {
   "cell_type": "code",
   "execution_count": 16,
   "metadata": {},
   "outputs": [
    {
     "data": {
      "image/png": "[encoded data removed]",
      "text/plain": [
       "<Figure size 360x360 with 1 Axes>"
      ]
     },
     "metadata": {
      "needs_background": "light"
     },
     "output_type": "display_data"
    },
    {
     "name": "stdout",
     "output_type": "stream",
     "text": [
      "['bragg_mirror.png', 'IMI_band_structure.png', 'conductor_3D_waveguide.png']\n"
     ]
    }
   ],
   "source": [
    "omega_scan = 2*np.pi*C0/wvlen_scan/1e-6\n",
    "\n",
    "\n",
    "plt.figure(figsize = (5,5));\n",
    "plt.plot(np.real(kspectra)*1e-6, omega_scan/omega_p, '.b', markersize = 2);\n",
    "plt.plot(np.imag(kspectra)*1e-6, omega_scan/omega_p, '.r', markersize = 2);\n",
    "plt.xlim((-30, 50))\n",
    "plt.xlabel('k (1/($\\mu$m))')\n",
    "plt.ylabel('$\\omega/\\omega_p$')\n",
    "#plt.savefig(\"../img/IMI_band_structure.png\",dpi = 300)\n",
    "plt.show();\n",
    "#plt.plot(np.imag(kspectra), omega_scan/omega_p, '.r', markersize = 2);\n",
    "print(os.listdir(\"../img\"))"
   ]
  },
  {
   "cell_type": "markdown",
   "metadata": {},
   "source": [
    "## eigenTE"
   ]
  },
  {
   "cell_type": "code",
   "execution_count": 19,
   "metadata": {},
   "outputs": [
    {
     "ename": "AttributeError",
     "evalue": "'EigenGuide2D' object has no attribute 'Tepzz'",
     "output_type": "error",
     "traceback": [
      "\u001b[0;31m---------------------------------------------------------------------------\u001b[0m",
      "\u001b[0;31mAttributeError\u001b[0m                            Traceback (most recent call last)",
      "\u001b[0;32m<ipython-input-19-291d9f2ca1b2>\u001b[0m in \u001b[0;36m<module>\u001b[0;34m\u001b[0m\n\u001b[0;32m----> 1\u001b[0;31m \u001b[0meigen_te\u001b[0m \u001b[0;34m=\u001b[0m \u001b[0mEigenGuide2D\u001b[0m\u001b[0;34m(\u001b[0m\u001b[0mstruct\u001b[0m\u001b[0;34m,\u001b[0m \u001b[0mpolarization\u001b[0m \u001b[0;34m=\u001b[0m \u001b[0;34m'TE'\u001b[0m\u001b[0;34m)\u001b[0m\u001b[0;34m;\u001b[0m\u001b[0;34m\u001b[0m\u001b[0;34m\u001b[0m\u001b[0m\n\u001b[0m",
      "\u001b[0;32m~/src/eigenwell/src/eigen_guide.py\u001b[0m in \u001b[0;36m__init__\u001b[0;34m(self, eps_r_struct, polarization)\u001b[0m\n\u001b[1;32m     14\u001b[0m         \u001b[0msuper\u001b[0m\u001b[0;34m(\u001b[0m\u001b[0;34m)\u001b[0m\u001b[0;34m.\u001b[0m\u001b[0m__init__\u001b[0m\u001b[0;34m(\u001b[0m\u001b[0meps_r_struct\u001b[0m\u001b[0;34m)\u001b[0m\u001b[0;34m;\u001b[0m\u001b[0;34m\u001b[0m\u001b[0;34m\u001b[0m\u001b[0m\n\u001b[1;32m     15\u001b[0m         \u001b[0mself\u001b[0m\u001b[0;34m.\u001b[0m\u001b[0mpolarization\u001b[0m \u001b[0;34m=\u001b[0m \u001b[0mpolarization\u001b[0m\u001b[0;34m\u001b[0m\u001b[0;34m\u001b[0m\u001b[0m\n\u001b[0;32m---> 16\u001b[0;31m         \u001b[0mself\u001b[0m\u001b[0;34m.\u001b[0m\u001b[0mmake_operator_components\u001b[0m\u001b[0;34m(\u001b[0m\u001b[0;36m0\u001b[0m\u001b[0;34m)\u001b[0m\u001b[0;34m;\u001b[0m\u001b[0;34m\u001b[0m\u001b[0;34m\u001b[0m\u001b[0m\n\u001b[0m\u001b[1;32m     17\u001b[0m \u001b[0;34m\u001b[0m\u001b[0m\n\u001b[1;32m     18\u001b[0m     \u001b[0;32mdef\u001b[0m \u001b[0mmake_operator_components\u001b[0m\u001b[0;34m(\u001b[0m\u001b[0mself\u001b[0m\u001b[0;34m,\u001b[0m \u001b[0momega\u001b[0m\u001b[0;34m)\u001b[0m\u001b[0;34m:\u001b[0m\u001b[0;34m\u001b[0m\u001b[0;34m\u001b[0m\u001b[0m\n",
      "\u001b[0;32m~/src/eigenwell/src/eigen_guide.py\u001b[0m in \u001b[0;36mmake_operator_components\u001b[0;34m(self, omega)\u001b[0m\n\u001b[1;32m     29\u001b[0m             \u001b[0mA\u001b[0m \u001b[0;34m=\u001b[0m \u001b[0mTepzz\u001b[0m\u001b[0;34m@\u001b[0m\u001b[0mDxb\u001b[0m\u001b[0;34m@\u001b[0m\u001b[0;34m(\u001b[0m\u001b[0minvTepxx\u001b[0m\u001b[0;34m)\u001b[0m\u001b[0;34m@\u001b[0m\u001b[0mDxf\u001b[0m \u001b[0;34m+\u001b[0m\u001b[0mTepzz\u001b[0m\u001b[0;34m*\u001b[0m\u001b[0;34m(\u001b[0m\u001b[0momega\u001b[0m\u001b[0;34m**\u001b[0m\u001b[0;36m2\u001b[0m\u001b[0;34m*\u001b[0m\u001b[0mMU0\u001b[0m\u001b[0;34m)\u001b[0m\u001b[0;34m;\u001b[0m\u001b[0;34m\u001b[0m\u001b[0;34m\u001b[0m\u001b[0m\n\u001b[1;32m     30\u001b[0m         \u001b[0;32melif\u001b[0m\u001b[0;34m(\u001b[0m\u001b[0mself\u001b[0m\u001b[0;34m.\u001b[0m\u001b[0mpolarization\u001b[0m \u001b[0;34m==\u001b[0m \u001b[0;34m'TE'\u001b[0m\u001b[0;34m)\u001b[0m\u001b[0;34m:\u001b[0m\u001b[0;34m\u001b[0m\u001b[0;34m\u001b[0m\u001b[0m\n\u001b[0;32m---> 31\u001b[0;31m             \u001b[0mA\u001b[0m \u001b[0;34m=\u001b[0m \u001b[0mDxf\u001b[0m \u001b[0;34m@\u001b[0m \u001b[0mDxb\u001b[0m \u001b[0;34m+\u001b[0m \u001b[0momega\u001b[0m\u001b[0;34m**\u001b[0m\u001b[0;36m2\u001b[0m\u001b[0;34m*\u001b[0m\u001b[0mMU0\u001b[0m\u001b[0;34m*\u001b[0m\u001b[0mself\u001b[0m\u001b[0;34m.\u001b[0m\u001b[0mTepzz\u001b[0m\u001b[0;34m;\u001b[0m\u001b[0;34m\u001b[0m\u001b[0;34m\u001b[0m\u001b[0m\n\u001b[0m\u001b[1;32m     32\u001b[0m         \u001b[0;31m## how abou tthe TE polarization?\u001b[0m\u001b[0;34m\u001b[0m\u001b[0;34m\u001b[0m\u001b[0;34m\u001b[0m\u001b[0m\n\u001b[1;32m     33\u001b[0m         \u001b[0mA\u001b[0m \u001b[0;34m=\u001b[0m \u001b[0mA\u001b[0m\u001b[0;34m.\u001b[0m\u001b[0mastype\u001b[0m\u001b[0;34m(\u001b[0m\u001b[0;34m'complex'\u001b[0m\u001b[0;34m)\u001b[0m\u001b[0;34m\u001b[0m\u001b[0;34m\u001b[0m\u001b[0m\n",
      "\u001b[0;31mAttributeError\u001b[0m: 'EigenGuide2D' object has no attribute 'Tepzz'"
     ]
    }
   ],
   "source": [
    "eigen_te = EigenGuide2D(struct, polarization = 'TE');\n"
   ]
  },
  {
   "cell_type": "code",
   "execution_count": null,
   "metadata": {},
   "outputs": [],
   "source": [
    "kspectra_te = list();\n",
    "for i,wvlen in enumerate(wvlen_scan):\n",
    "    omega = 2*np.pi*C0/wvlen/L0;\n",
    "    epsilon_metal = 1-omega_p**2/(omega**2 - 1j*(gamma*omega))\n",
    "    eps_r[int(Nx/2-fill_factor*Nx/2): int(Nx/2+fill_factor*Nx/2)] = epsilon_metal;\n",
    "\n",
    "    eigen.update_structure(struct);\n",
    "    eigen.make_operator_components(omega);\n",
    "    \n",
    "    neff = np.sqrt(np.max(np.real(eps_r)));\n",
    "    beta_est = abs(2*np.pi*neff / (wvlen*L0));\n",
    "    sigma = beta_est**2;\n",
    "    \n",
    "    Aop = eigen.A;\n",
    "    kvals, modes = la.eigs(Aop, sigma = sigma, k = 10);\n",
    "    \n",
    "    kspectra_te.append(np.sqrt(kvals));"
   ]
  },
  {
   "cell_type": "code",
   "execution_count": null,
   "metadata": {},
   "outputs": [],
   "source": [
    "plt.figure(figsize = (5,5));\n",
    "plt.plot(np.real(kspectra), omega_scan/omega_p, '.b', markersize = 2);\n",
    "plt.plot(np.imag(kspectra), omega_scan/omega_p, '.r', markersize = 2);\n",
    "plt.xlim((-30e6, 50e6))\n",
    "plt.show();\n"
   ]
  },
  {
   "cell_type": "code",
   "execution_count": null,
   "metadata": {},
   "outputs": [],
   "source": []
  }
 ],
 "metadata": {
  "kernelspec": {
   "display_name": "Python 3",
   "language": "python",
   "name": "python3"
  },
  "language_info": {
   "codemirror_mode": {
    "name": "ipython",
    "version": 3
   },
   "file_extension": ".py",
   "mimetype": "text/x-python",
   "name": "python",
   "nbconvert_exporter": "python",
   "pygments_lexer": "ipython3",
   "version": "3.8.5"
  }
 },
 "nbformat": 4,
 "nbformat_minor": 4
}
