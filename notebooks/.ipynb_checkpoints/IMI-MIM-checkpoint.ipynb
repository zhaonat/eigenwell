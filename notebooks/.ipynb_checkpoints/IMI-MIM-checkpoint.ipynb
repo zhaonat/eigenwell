{
 "cells": [
  {
   "cell_type": "code",
   "execution_count": 10,
   "metadata": {},
   "outputs": [],
   "source": [
    "import numpy as np\n",
    "import matplotlib.pyplot as plt\n",
    "from eigenwell.src.eigen_guide import *\n",
    "from eigenwell.src.constants import *\n",
    "L0 = 1e-6;\n",
    "omega_p = 0.72*np.pi*1e15;\n",
    "gamma = 5.5e12;"
   ]
  },
  {
   "cell_type": "code",
   "execution_count": 20,
   "metadata": {},
   "outputs": [
    {
     "name": "stdout",
     "output_type": "stream",
     "text": [
      "1.0037741909580022 0.8333333333333334 2261946710584651.0\n",
      "(500, 1)\n",
      "[3.9999999999999996e-10, 1]\n"
     ]
    }
   ],
   "source": [
    "omega_cutoff = 0.83020*omega_p;\n",
    "wvlen_cutoff = 2*np.pi*c0/omega_cutoff/1e-6;\n",
    "wvlen_cutoff2 = 2*np.pi*c0/(0.92*omega_p)/1e-6;\n",
    "lambda_p = 2*np.pi*c0/omega_p/1e-6;\n",
    "print(wvlen_cutoff, lambda_p, omega_p)\n",
    "wvlen_scan = np.linspace(0.7,10, 100);\n",
    "epsilon_diel = 16;\n",
    "\n",
    "a = 0.2*L0; #lattice constant\n",
    "Nx = 500\n",
    "eps_r = epsilon_diel*np.ones((Nx, 1))\n",
    "eps_r = eps_r.astype('complex')\n",
    "print(eps_r.shape)\n",
    "fill_factor = 0.2;\n",
    "dx= a/Nx;\n",
    "\n",
    "dL = [dx, 1];\n",
    "N = [Nx, 1];\n",
    "print(dL)\n",
    "\n",
    "fd = FiniteDifference(dL,N)"
   ]
  },
  {
   "cell_type": "code",
   "execution_count": 18,
   "metadata": {},
   "outputs": [
    {
     "name": "stdout",
     "output_type": "stream",
     "text": [
      "0.1884955592153876\n"
     ]
    }
   ],
   "source": [
    "eigen = EigenGuideK2D(eps_r, fd);\n",
    "print(omega/1e15)"
   ]
  },
  {
   "cell_type": "code",
   "execution_count": 32,
   "metadata": {},
   "outputs": [],
   "source": [
    "kspectra = list();\n",
    "for i,wvlen in enumerate(wvlen_scan):\n",
    "    omega = 2*np.pi*c0/wvlen/L0;\n",
    "    epsilon_metal = 1-omega_p**2/(omega**2 - 1j*(gamma*omega))\n",
    "    eps_r[int(Nx/2-fill_factor*Nx/2): int(Nx/2+fill_factor*Nx/2)] = epsilon_metal;\n",
    "    eigen.update_structure(eps_r);\n",
    "    \n",
    "    neff = np.sqrt(np.max(np.real(eps_r)));\n",
    "    beta_est = abs(2*np.pi*neff / (wvlen*L0));\n",
    "    sigma = beta_est**2;\n",
    "    #print(omega/1e15, sigma**0.5)\n",
    "    kvals, modes = eigen.eigensolve(omega, sigma = sigma);\n",
    "    kspectra.append(np.sqrt(kvals));\n",
    "\n",
    "kspectra = np.array(kspectra);\n",
    "\n",
    "omega_scan = 2*np.pi*c0/wvlen_scan/1e-6\n"
   ]
  },
  {
   "cell_type": "code",
   "execution_count": 33,
   "metadata": {},
   "outputs": [
    {
     "data": {
      "image/png": "[encoded data removed]",
      "text/plain": [
       "<Figure size 360x360 with 1 Axes>"
      ]
     },
     "metadata": {
      "needs_background": "light"
     },
     "output_type": "display_data"
    },
    {
     "data": {
      "image/png": "[encoded data removed]",
      "text/plain": [
       "<Figure size 432x288 with 1 Axes>"
      ]
     },
     "metadata": {
      "needs_background": "light"
     },
     "output_type": "display_data"
    }
   ],
   "source": [
    "plt.figure(figsize = (5,5));\n",
    "plt.plot(np.real(kspectra), omega_scan/omega_p, '.b', markersize = 2);\n",
    "#plt.plot(np.imag(kspectra), omega_scan/omega_p, '.r', markersize = 2);\n",
    "#plt.xlim((-30, 50))\n",
    "plt.show();\n",
    "plt.plot(np.imag(kspectra), omega_scan/omega_p, '.r', markersize = 2);\n"
   ]
  },
  {
   "cell_type": "code",
   "execution_count": null,
   "metadata": {},
   "outputs": [],
   "source": [
    "def solverTM1D(wvlen, eps_r, a, dx, num_modes = 10):\n",
    "    '''\n",
    "    :param wvlen:\n",
    "    :param eps_r:\n",
    "    :param a:\n",
    "    :param dx:\n",
    "    :return:\n",
    "    '''\n",
    "    L0 = 1e-6;\n",
    "    eps0 = 8.854e-12 * L0;\n",
    "    mu0 = np.pi * 4e-7 * L0;\n",
    "    c0 = 1 / np.sqrt(eps0 * mu0);\n",
    "    omega = 2*np.pi*c0/wvlen;\n",
    "    Nx = len(eps_r);\n",
    "\n",
    "    dL = dx;\n",
    "    Dxf = createDws('x', 'f', [dL,1], [Nx,1], matrix_format=matrix_format);\n",
    "    Dxb = createDws('x', 'b', [dL,1], [Nx,1], matrix_format=matrix_format);\n",
    "    Epxx = grid_average(eps_r, 'x');\n",
    "    invTepxx = sp.spdiags(1/(eps0*Epxx), 0, Nx, Nx, format = matrix_format)\n",
    "    Tepzz = sp.spdiags(eps0*eps_r, 0, Nx,Nx, format = matrix_format)\n",
    "    A = Tepzz@Dxf@(invTepxx)@Dxb + Tepzz@sp.spdiags(omega**2*mu0*np.ones((Nx,)), 0, Nx,Nx, format = matrix_format);\n",
    "    A = A.astype('complex')\n",
    "\n",
    "    # get guess\n",
    "    neff = np.sqrt(np.max(np.real(eps_r)));\n",
    "    beta_est = abs(2*np.pi*neff / wvlen);\n",
    "    sigma = beta_est**2;\n",
    "\n",
    "    #get eigenvalues\n",
    "    ksqr, modes = sp.linalg.eigs(A, k=num_modes, sigma = sigma)\n",
    "\n",
    "    return np.sqrt(ksqr), modes,A;\n"
   ]
  },
  {
   "cell_type": "code",
   "execution_count": null,
   "metadata": {},
   "outputs": [],
   "source": []
  }
 ],
 "metadata": {
  "kernelspec": {
   "display_name": "Python 3",
   "language": "python",
   "name": "python3"
  },
  "language_info": {
   "codemirror_mode": {
    "name": "ipython",
    "version": 3
   },
   "file_extension": ".py",
   "mimetype": "text/x-python",
   "name": "python",
   "nbconvert_exporter": "python",
   "pygments_lexer": "ipython3",
   "version": "3.8.5"
  }
 },
 "nbformat": 4,
 "nbformat_minor": 4
}
