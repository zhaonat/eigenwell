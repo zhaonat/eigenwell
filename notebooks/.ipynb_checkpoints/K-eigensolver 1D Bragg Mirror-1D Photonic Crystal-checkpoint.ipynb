{
 "cells": [
  {
   "cell_type": "code",
   "execution_count": 1,
   "metadata": {},
   "outputs": [
    {
     "name": "stdout",
     "output_type": "stream",
     "text": [
      "['/Users/nathanzhao/src/eigenwell/notebooks', '/Users/nathanzhao/src', '/Users/nathanzhao/opt/anaconda3/lib/python38.zip', '/Users/nathanzhao/opt/anaconda3/lib/python3.8', '/Users/nathanzhao/opt/anaconda3/lib/python3.8/lib-dynload', '', '/Users/nathanzhao/opt/anaconda3/lib/python3.8/site-packages', '/Users/nathanzhao/opt/anaconda3/lib/python3.8/site-packages/aeosa', '/Users/nathanzhao/src/ceviche', '/Users/nathanzhao/opt/anaconda3/lib/python3.8/site-packages/IPython/extensions', '/Users/nathanzhao/.ipython']\n",
      "1.2566370614359173e-06\n",
      "8.854e-12\n",
      "299795637.69321626\n"
     ]
    }
   ],
   "source": [
    "import numpy as np\n",
    "import matplotlib.pyplot as plt\n",
    "import sys\n",
    "print(sys.path)\n",
    "from eigenwell.src import grid, eigen_k, eigen_w, structure\n",
    "from eigenwell.src.constants import *\n",
    "\n",
    "print(MU0)\n",
    "print(EPSILON0)\n",
    "print(C0)"
   ]
  },
  {
   "cell_type": "code",
   "execution_count": null,
   "metadata": {},
   "outputs": [],
   "source": []
  },
  {
   "cell_type": "code",
   "execution_count": 2,
   "metadata": {},
   "outputs": [],
   "source": [
    "def sigma_guess(eps_r_guess):  \n",
    "    neff = np.sqrt(np.max(np.real(eps_r_guess)));\n",
    "    wvlen = 2*np.pi*C0/omega;\n",
    "    beta_est = abs(2*np.pi*neff / wvlen);\n",
    "    sigma = beta_est;\n",
    "    return sigma;\n"
   ]
  },
  {
   "cell_type": "code",
   "execution_count": 3,
   "metadata": {},
   "outputs": [
    {
     "name": "stdout",
     "output_type": "stream",
     "text": [
      "1e-08 [1.e-08 1.e-06]\n"
     ]
    },
    {
     "data": {
      "image/png": "[encoded data removed]",
      "text/plain": [
       "<Figure size 720x720 with 1 Axes>"
      ]
     },
     "metadata": {
      "needs_background": "light"
     },
     "output_type": "display_data"
    }
   ],
   "source": [
    "Nx = 100;\n",
    "N = [Nx,1]\n",
    "eps_r = np.ones(N)\n",
    "eps_r[20:80] = 12;\n",
    "L0 = 1e-6;\n",
    "\n",
    "x = np.linspace(-1/2, 1/2, Nx)*L0;\n",
    "a = 1*L0;\n",
    "wvlen= 5*L0;\n",
    "#eps_r = 1+np.sin(2*np.pi*x/a);\n",
    "dx = a/Nx;\n",
    "dL = np.array([dx,1*L0]);\n",
    "print(dx, dL)\n",
    "\n",
    "fd = grid.FiniteDifferenceGrid(dL,N)\n",
    "\n",
    "plt.figure(figsize = (10,10))\n",
    "plt.spy(fd.Dxb@fd.Dxf, markersize = 1);\n",
    "\n",
    "#print(fd.Dxb@fd.Dxf)\n"
   ]
  },
  {
   "cell_type": "code",
   "execution_count": 6,
   "metadata": {},
   "outputs": [
    {
     "data": {
      "image/png": "[encoded data removed]",
      "text/plain": [
       "<Figure size 432x288 with 1 Axes>"
      ]
     },
     "metadata": {
      "needs_background": "light"
     },
     "output_type": "display_data"
    },
    {
     "name": "stdout",
     "output_type": "stream",
     "text": [
      "0.37673430918211026 4.9999999999999996e-06 1579136704174.298\n"
     ]
    }
   ],
   "source": [
    "#print(dir(fd))\n",
    "#print(fd.Dxf)\n",
    "\n",
    "plt.plot(eps_r)\n",
    "plt.show();\n",
    "omega = 2*np.pi*C0/(wvlen)\n",
    "print(omega/1e15, wvlen, omega**2*MU0*EPSILON0)\n",
    "\n",
    "struct = structure.Structure(eps_r, [a, 1])\n",
    "eigen_op = eigen_k.EigenK1D(struct)\n",
    "\n"
   ]
  },
  {
   "cell_type": "markdown",
   "metadata": {},
   "source": [
    "## Band structure scan"
   ]
  },
  {
   "cell_type": "code",
   "execution_count": null,
   "metadata": {},
   "outputs": [],
   "source": [
    "## eigen scan\n",
    "ni = 1000\n",
    "real_wvlen_scan = np.logspace(np.log10(0.8), np.log10(5), ni);\n",
    "#real_wvlen_scan = np.linspace(1,10,100)\n",
    "#print(real_wvlen_scan)\n",
    "num_modes = 10;\n",
    "spectra = []\n",
    "print(C0)\n",
    "for wvlen in real_wvlen_scan:\n",
    "    ## modes are a combination of 2\n",
    "    omega = 2*np.pi*C0/(wvlen*1e-6);\n",
    "    #print(wvlen, omega/1e15)\n",
    "    eigen_op.make_operator_components(omega);\n",
    "    \n",
    "    ## Quadratic Eigenproblem\n",
    "    \n",
    "    OA = eigen_op.OA;\n",
    "    OB = eigen_op.OB;\n",
    "    \n",
    "    \n",
    "\n",
    "    spectra.append(np.sort(eigenvals));\n",
    "\n",
    "\n",
    "\n",
    "spectra = np.array(spectra);\n",
    "print(spectra.shape)\n",
    "plt.figure(figsize = (5.5,5.5));\n",
    "spectra = np.array(spectra);\n",
    "plt.plot(np.real(spectra[:,:]), 1/real_wvlen_scan, '.b')\n",
    "plt.plot(np.imag(spectra[:,:]), 1/real_wvlen_scan, '.r')\n",
    "plt.xlabel('k', fontsize = 22)\n",
    "plt.ylabel('$\\lambda^{-1}$', fontsize = 22)\n",
    "plt.savefig('../img/bragg_mirror.png',dpi = 300)\n",
    "plt.show();"
   ]
  },
  {
   "cell_type": "code",
   "execution_count": null,
   "metadata": {},
   "outputs": [],
   "source": [
    "print()"
   ]
  },
  {
   "cell_type": "code",
   "execution_count": null,
   "metadata": {},
   "outputs": [],
   "source": []
  },
  {
   "cell_type": "markdown",
   "metadata": {},
   "source": []
  },
  {
   "cell_type": "code",
   "execution_count": null,
   "metadata": {},
   "outputs": [],
   "source": []
  },
  {
   "cell_type": "code",
   "execution_count": null,
   "metadata": {},
   "outputs": [],
   "source": []
  },
  {
   "cell_type": "code",
   "execution_count": null,
   "metadata": {},
   "outputs": [],
   "source": []
  },
  {
   "cell_type": "code",
   "execution_count": null,
   "metadata": {},
   "outputs": [],
   "source": []
  },
  {
   "cell_type": "code",
   "execution_count": null,
   "metadata": {},
   "outputs": [],
   "source": []
  }
 ],
 "metadata": {
  "kernelspec": {
   "display_name": "Python 3",
   "language": "python",
   "name": "python3"
  },
  "language_info": {
   "codemirror_mode": {
    "name": "ipython",
    "version": 3
   },
   "file_extension": ".py",
   "mimetype": "text/x-python",
   "name": "python",
   "nbconvert_exporter": "python",
   "pygments_lexer": "ipython3",
   "version": "3.8.5"
  }
 },
 "nbformat": 4,
 "nbformat_minor": 5
}
