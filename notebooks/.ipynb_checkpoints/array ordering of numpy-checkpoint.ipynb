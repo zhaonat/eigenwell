{
 "cells": [
  {
   "cell_type": "code",
   "execution_count": 1,
   "metadata": {},
   "outputs": [
    {
     "name": "stderr",
     "output_type": "stream",
     "text": [
      "/Users/nathanzhao/src/eigenwell/src/grid.py:23: SyntaxWarning: assertion is always true, perhaps remove parentheses?\n",
      "  assert (len(dL)==len(N) == 2, 'must specify 2 elem arr even for 1d sims')\n"
     ]
    }
   ],
   "source": [
    "import numpy as np\n",
    "from eigenwell.src import grid\n",
    "import matplotlib.pyplot as plt"
   ]
  },
  {
   "cell_type": "markdown",
   "metadata": {},
   "source": [
    "## mapping Cartesian x and y to numpy dimensions\n",
    "in a 2d numpy array arr[:,:], the first dimension moves along rows and the 2nd dimension moves along columns. rows correspond to y while columns correspond to y\n",
    "\n",
    "1. order = 'C': C-contiguous...last index varies the fastest\n",
    "2. order = 'F': fortran...first index varies the fastest (matlab uses this)"
   ]
  },
  {
   "cell_type": "code",
   "execution_count": 2,
   "metadata": {},
   "outputs": [
    {
     "name": "stdout",
     "output_type": "stream",
     "text": [
      "[[0 0 0 0 0 0 0 0 0 0]\n",
      " [1 1 1 1 1 1 1 1 1 1]\n",
      " [2 2 2 2 2 2 2 2 2 2]\n",
      " [3 3 3 3 3 3 3 3 3 3]\n",
      " [4 4 4 4 4 4 4 4 4 4]\n",
      " [5 5 5 5 5 5 5 5 5 5]\n",
      " [6 6 6 6 6 6 6 6 6 6]\n",
      " [7 7 7 7 7 7 7 7 7 7]\n",
      " [8 8 8 8 8 8 8 8 8 8]\n",
      " [9 9 9 9 9 9 9 9 9 9]]\n",
      "[[ 0 10 20 30 40 50 60 70 80 90]\n",
      " [ 1 11 21 31 41 51 61 71 81 91]\n",
      " [ 2 12 22 32 42 52 62 72 82 92]\n",
      " [ 3 13 23 33 43 53 63 73 83 93]\n",
      " [ 4 14 24 34 44 54 64 74 84 94]\n",
      " [ 5 15 25 35 45 55 65 75 85 95]\n",
      " [ 6 16 26 36 46 56 66 76 86 96]\n",
      " [ 7 17 27 37 47 57 67 77 87 97]\n",
      " [ 8 18 28 38 48 58 68 78 88 98]\n",
      " [ 9 19 29 39 49 59 69 79 89 99]]\n"
     ]
    }
   ],
   "source": [
    "## in matlab Xn would be transposed\n",
    "\n",
    "Nx = 10;\n",
    "Ny = 10;\n",
    "xn = np.arange(Nx)\n",
    "yn = np.arange(Ny)\n",
    "N = [Nx,Ny]\n",
    "dL = [1,1]\n",
    "\n",
    "Xn, Yn = np.meshgrid(xn, yn)\n",
    "print(Xn.T)\n",
    "\n",
    "print(np.reshape(np.arange(100),(10,10), order = 'F')); ## matlab"
   ]
  },
  {
   "cell_type": "code",
   "execution_count": 3,
   "metadata": {},
   "outputs": [
    {
     "data": {
      "image/png": "[encoded data removed]",
      "text/plain": [
       "<Figure size 360x360 with 1 Axes>"
      ]
     },
     "metadata": {
      "needs_background": "light"
     },
     "output_type": "display_data"
    },
    {
     "data": {
      "image/png": "[encoded data removed]",
      "text/plain": [
       "<Figure size 360x360 with 1 Axes>"
      ]
     },
     "metadata": {
      "needs_background": "light"
     },
     "output_type": "display_data"
    }
   ],
   "source": [
    "fd = grid.FiniteDifferenceGrid(dL,N)\n",
    "plt.figure(figsize= (5,5))\n",
    "plt.spy(fd.Dxb, markersize = 0.5)\n",
    "plt.show();\n",
    "\n",
    "plt.figure(figsize= (5,5))\n",
    "plt.spy(fd.Dyb, markersize = 0.5)\n",
    "plt.show();"
   ]
  },
  {
   "cell_type": "code",
   "execution_count": 5,
   "metadata": {},
   "outputs": [],
   "source": [
    "dxf = fd.createDws_bloch('y', 'b', k = 1, L = 1)"
   ]
  },
  {
   "cell_type": "code",
   "execution_count": 6,
   "metadata": {},
   "outputs": [
    {
     "data": {
      "text/plain": [
       "<matplotlib.lines.Line2D at 0x7fa2682bf700>"
      ]
     },
     "execution_count": 6,
     "metadata": {},
     "output_type": "execute_result"
    },
    {
     "data": {
      "image/png": "[encoded data removed]",
      "text/plain": [
       "<Figure size 360x360 with 1 Axes>"
      ]
     },
     "metadata": {
      "needs_background": "light"
     },
     "output_type": "display_data"
    }
   ],
   "source": [
    "plt.figure(figsize = (5,5))\n",
    "plt.spy(dxf, markersize = 1)"
   ]
  },
  {
   "cell_type": "code",
   "execution_count": 7,
   "metadata": {},
   "outputs": [],
   "source": [
    "dxf2 = fd.createDws_bloch2('y', 'b', k = 1, L = 1)\n",
    "dxf3 = fd.createDws('y','b')"
   ]
  },
  {
   "cell_type": "code",
   "execution_count": 8,
   "metadata": {},
   "outputs": [
    {
     "data": {
      "text/plain": [
       "<matplotlib.lines.Line2D at 0x7fa259c0bf40>"
      ]
     },
     "execution_count": 8,
     "metadata": {},
     "output_type": "execute_result"
    },
    {
     "data": {
      "image/png": "[encoded data removed]",
      "text/plain": [
       "<Figure size 360x360 with 1 Axes>"
      ]
     },
     "metadata": {
      "needs_background": "light"
     },
     "output_type": "display_data"
    }
   ],
   "source": [
    "plt.figure(figsize = (5,5))\n",
    "plt.spy(dxf-dxf2, markersize = 1)"
   ]
  },
  {
   "cell_type": "code",
   "execution_count": 9,
   "metadata": {},
   "outputs": [
    {
     "name": "stdout",
     "output_type": "stream",
     "text": [
      "  (0, 0)\t(1+0j)\n",
      "  (1, 1)\t(1+0j)\n",
      "  (2, 2)\t(1+0j)\n",
      "  (3, 3)\t(1+0j)\n",
      "  (4, 4)\t(1+0j)\n",
      "  (5, 5)\t(1+0j)\n",
      "  (6, 6)\t(1+0j)\n",
      "  (7, 7)\t(1+0j)\n",
      "  (8, 8)\t(1+0j)\n",
      "  (9, 9)\t(1+0j)\n",
      "  (0, 90)\t(-0.5403023058681398-0.8414709848078965j)\n",
      "  (1, 91)\t(-0.5403023058681398-0.8414709848078965j)\n",
      "  (2, 92)\t(-0.5403023058681398-0.8414709848078965j)\n",
      "  (3, 93)\t(-0.5403023058681398-0.8414709848078965j)\n",
      "  (4, 94)\t(-0.5403023058681398-0.8414709848078965j)\n",
      "  (5, 95)\t(-0.5403023058681398-0.8414709848078965j)\n",
      "  (6, 96)\t(-0.5403023058681398-0.8414709848078965j)\n",
      "  (7, 97)\t(-0.5403023058681398-0.8414709848078965j)\n",
      "  (8, 98)\t(-0.5403023058681398-0.8414709848078965j)\n",
      "  (9, 99)\t(-0.5403023058681398-0.8414709848078965j)\n",
      "  (10, 0)\t(-1+0j)\n",
      "  (11, 1)\t(-1+0j)\n",
      "  (12, 2)\t(-1+0j)\n",
      "  (13, 3)\t(-1+0j)\n",
      "  (14, 4)\t(-1+0j)\n",
      "  :\t:\n",
      "  (85, 85)\t(1+0j)\n",
      "  (86, 86)\t(1+0j)\n",
      "  (87, 87)\t(1+0j)\n",
      "  (88, 88)\t(1+0j)\n",
      "  (89, 89)\t(1+0j)\n",
      "  (90, 80)\t(-1+0j)\n",
      "  (91, 81)\t(-1+0j)\n",
      "  (92, 82)\t(-1+0j)\n",
      "  (93, 83)\t(-1+0j)\n",
      "  (94, 84)\t(-1+0j)\n",
      "  (95, 85)\t(-1+0j)\n",
      "  (96, 86)\t(-1+0j)\n",
      "  (97, 87)\t(-1+0j)\n",
      "  (98, 88)\t(-1+0j)\n",
      "  (99, 89)\t(-1+0j)\n",
      "  (90, 90)\t(1+0j)\n",
      "  (91, 91)\t(1+0j)\n",
      "  (92, 92)\t(1+0j)\n",
      "  (93, 93)\t(1+0j)\n",
      "  (94, 94)\t(1+0j)\n",
      "  (95, 95)\t(1+0j)\n",
      "  (96, 96)\t(1+0j)\n",
      "  (97, 97)\t(1+0j)\n",
      "  (98, 98)\t(1+0j)\n",
      "  (99, 99)\t(1+0j)\n"
     ]
    }
   ],
   "source": [
    "print(dxf)"
   ]
  },
  {
   "cell_type": "code",
   "execution_count": 10,
   "metadata": {},
   "outputs": [
    {
     "name": "stdout",
     "output_type": "stream",
     "text": [
      "  (0, 0)\t(-1+0j)\n",
      "  (10, 0)\t(1+0j)\n",
      "  (1, 1)\t(-1+0j)\n",
      "  (11, 1)\t(1+0j)\n",
      "  (2, 2)\t(-1+0j)\n",
      "  (12, 2)\t(1+0j)\n",
      "  (3, 3)\t(-1+0j)\n",
      "  (13, 3)\t(1+0j)\n",
      "  (4, 4)\t(-1+0j)\n",
      "  (14, 4)\t(1+0j)\n",
      "  (5, 5)\t(-1+0j)\n",
      "  (15, 5)\t(1+0j)\n",
      "  (6, 6)\t(-1+0j)\n",
      "  (16, 6)\t(1+0j)\n",
      "  (7, 7)\t(-1+0j)\n",
      "  (17, 7)\t(1+0j)\n",
      "  (8, 8)\t(-1+0j)\n",
      "  (18, 8)\t(1+0j)\n",
      "  (9, 9)\t(-1+0j)\n",
      "  (19, 9)\t(1+0j)\n",
      "  (10, 10)\t(-1+0j)\n",
      "  (20, 10)\t(1+0j)\n",
      "  (11, 11)\t(-1+0j)\n",
      "  (21, 11)\t(1+0j)\n",
      "  (12, 12)\t(-1+0j)\n",
      "  :\t:\n",
      "  (97, 87)\t(1+0j)\n",
      "  (88, 88)\t(-1+0j)\n",
      "  (98, 88)\t(1+0j)\n",
      "  (89, 89)\t(-1+0j)\n",
      "  (99, 89)\t(1+0j)\n",
      "  (0, 90)\t(0.5403023058681398-0.8414709848078965j)\n",
      "  (90, 90)\t(-1+0j)\n",
      "  (1, 91)\t(0.5403023058681398-0.8414709848078965j)\n",
      "  (91, 91)\t(-1+0j)\n",
      "  (2, 92)\t(0.5403023058681398-0.8414709848078965j)\n",
      "  (92, 92)\t(-1+0j)\n",
      "  (3, 93)\t(0.5403023058681398-0.8414709848078965j)\n",
      "  (93, 93)\t(-1+0j)\n",
      "  (4, 94)\t(0.5403023058681398-0.8414709848078965j)\n",
      "  (94, 94)\t(-1+0j)\n",
      "  (5, 95)\t(0.5403023058681398-0.8414709848078965j)\n",
      "  (95, 95)\t(-1+0j)\n",
      "  (6, 96)\t(0.5403023058681398-0.8414709848078965j)\n",
      "  (96, 96)\t(-1+0j)\n",
      "  (7, 97)\t(0.5403023058681398-0.8414709848078965j)\n",
      "  (97, 97)\t(-1+0j)\n",
      "  (8, 98)\t(0.5403023058681398-0.8414709848078965j)\n",
      "  (98, 98)\t(-1+0j)\n",
      "  (9, 99)\t(0.5403023058681398-0.8414709848078965j)\n",
      "  (99, 99)\t(-1+0j)\n"
     ]
    }
   ],
   "source": [
    "print(dxf2)"
   ]
  },
  {
   "cell_type": "code",
   "execution_count": null,
   "metadata": {},
   "outputs": [],
   "source": []
  }
 ],
 "metadata": {
  "kernelspec": {
   "display_name": "Python 3",
   "language": "python",
   "name": "python3"
  },
  "language_info": {
   "codemirror_mode": {
    "name": "ipython",
    "version": 3
   },
   "file_extension": ".py",
   "mimetype": "text/x-python",
   "name": "python",
   "nbconvert_exporter": "python",
   "pygments_lexer": "ipython3",
   "version": "3.8.5"
  }
 },
 "nbformat": 4,
 "nbformat_minor": 4
}
